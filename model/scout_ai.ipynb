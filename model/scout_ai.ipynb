{
  "nbformat": 4,
  "nbformat_minor": 0,
  "metadata": {
    "colab": {
      "provenance": [],
      "authorship_tag": "ABX9TyNun39b3wpiyNZG+NbY/kuh",
      "include_colab_link": true
    },
    "kernelspec": {
      "name": "python3",
      "display_name": "Python 3"
    },
    "language_info": {
      "name": "python"
    }
  },
  "cells": [
    {
      "cell_type": "markdown",
      "metadata": {
        "id": "view-in-github",
        "colab_type": "text"
      },
      "source": [
        "<a href=\"https://colab.research.google.com/github/ryanzambrano/scout-ai/blob/main/model/scout_ai.ipynb\" target=\"_parent\"><img src=\"https://colab.research.google.com/assets/colab-badge.svg\" alt=\"Open In Colab\"/></a>"
      ]
    },
    {
      "cell_type": "code",
      "execution_count": 101,
      "metadata": {
        "id": "_Lu4FkBmOATT"
      },
      "outputs": [],
      "source": [
        "import pandas as pd\n",
        "import numpy as np\n",
        "import requests\n",
        "from bs4 import BeautifulSoup\n",
        "from sklearn.preprocessing import MinMaxScaler"
      ]
    },
    {
      "cell_type": "code",
      "source": [
        "centerURL = 'https://raw.githubusercontent.com/ryanzambrano/scout-ai/main/model/c.csv'\n",
        "pfURL = 'https://raw.githubusercontent.com/ryanzambrano/scout-ai/main/model/pf.csv'\n",
        "pgURL = 'https://raw.githubusercontent.com/ryanzambrano/scout-ai/main/model/pg.csv'\n",
        "sfURL = 'https://raw.githubusercontent.com/ryanzambrano/scout-ai/main/model/sf.csv'\n",
        "sgURL = 'https://raw.githubusercontent.com/ryanzambrano/scout-ai/main/model/sg.csv'\n",
        "nbaStatsURL = 'https://raw.githubusercontent.com/ryanzambrano/scout-ai/main/model/nbaStats.csv'"
      ],
      "metadata": {
        "id": "_0M51ZMFOIZX"
      },
      "execution_count": 102,
      "outputs": []
    },
    {
      "cell_type": "code",
      "source": [
        "CenterDF = pd.read_csv(centerURL)\n",
        "\n",
        "features = CenterDF.drop(['#', 'Player', 'Team'], axis=1)\n",
        "target = CenterDF['#']\n",
        "\n",
        "# Normalize the features\n",
        "scaler = MinMaxScaler()\n",
        "features_scaled = scaler.fit_transform(features)\n",
        "\n",
        "rank_correlations = features.corrwith(target, method='pearson')\n",
        "positive_rank_correlations = rank_correlations[rank_correlations > 0]\n",
        "threshold = 0.3  # Set your desired threshold\n",
        "positive_rank_correlations = rank_correlations[rank_correlations > threshold]\n",
        "top_N = 5  # Set the number of top features\n",
        "top_N_correlations = rank_correlations.nlargest(top_N)\n",
        "print(top_N_correlations)"
      ],
      "metadata": {
        "colab": {
          "base_uri": "https://localhost:8080/"
        },
        "id": "NnG9WHL5VoPR",
        "outputId": "332bda19-c05c-43b1-dc4f-e628fc0a55af"
      },
      "execution_count": 103,
      "outputs": [
        {
          "output_type": "stream",
          "name": "stdout",
          "text": [
            "FG%    0.151086\n",
            "3P%   -0.079483\n",
            "GP    -0.333568\n",
            "FT%   -0.372363\n",
            "3PM   -0.427661\n",
            "dtype: float64\n"
          ]
        }
      ]
    },
    {
      "cell_type": "code",
      "source": [
        "PowerForwardDF = pd.read_csv(pfURL)\n",
        "rank_column = \"#\"\n",
        "features = PowerForwardDF.columns[1:]\n",
        "\n",
        "rank_correlations = PowerForwardDF[features].corrwith(PowerForwardDF[rank_column], method='pearson')\n",
        "positive_rank_correlations = rank_correlations[rank_correlations > 0]\n",
        "threshold = 0.3  # Set your desired threshold\n",
        "positive_rank_correlations = rank_correlations[rank_correlations > threshold]\n",
        "top_N = 5  # Set the number of top features\n",
        "top_N_correlations = rank_correlations.nlargest(top_N)\n",
        "print(top_N_correlations)"
      ],
      "metadata": {
        "colab": {
          "base_uri": "https://localhost:8080/"
        },
        "id": "ofM024eQW7Cx",
        "outputId": "98b9791a-35d2-4a86-aa34-12d78aeae765"
      },
      "execution_count": 104,
      "outputs": [
        {
          "output_type": "stream",
          "name": "stdout",
          "text": [
            "3P%   -0.067441\n",
            "GP    -0.196214\n",
            "ORB   -0.358369\n",
            "FT%   -0.409817\n",
            "PF    -0.424395\n",
            "dtype: float64\n"
          ]
        },
        {
          "output_type": "stream",
          "name": "stderr",
          "text": [
            "<ipython-input-104-e5ca67cdcef8>:5: FutureWarning: The default value of numeric_only in DataFrame.corrwith is deprecated. In a future version, it will default to False. Select only valid columns or specify the value of numeric_only to silence this warning.\n",
            "  rank_correlations = PowerForwardDF[features].corrwith(PowerForwardDF[rank_column], method='pearson')\n"
          ]
        }
      ]
    },
    {
      "cell_type": "code",
      "source": [
        "ShootingGuardDF = pd.read_csv(sgURL)\n",
        "\n",
        "rank_column = \"#\"\n",
        "features = ShootingGuardDF.columns[1:]\n",
        "\n",
        "rank_correlations = ShootingGuardDF[features].corrwith(ShootingGuardDF[rank_column], method='pearson')\n",
        "positive_rank_correlations = rank_correlations[rank_correlations > 0]\n",
        "threshold = 0.3  # Set your desired threshold\n",
        "positive_rank_correlations = rank_correlations[rank_correlations > threshold]\n",
        "top_N = 5  # Set the number of top features\n",
        "top_N_correlations = rank_correlations.nlargest(top_N)\n",
        "print(top_N_correlations)"
      ],
      "metadata": {
        "colab": {
          "base_uri": "https://localhost:8080/"
        },
        "id": "He7civWmXEF6",
        "outputId": "05270c7a-9546-42f4-feb1-d7d56b9f3442"
      },
      "execution_count": 105,
      "outputs": [
        {
          "output_type": "stream",
          "name": "stdout",
          "text": [
            "3P%   -0.078622\n",
            "ORB   -0.179126\n",
            "FG%   -0.188434\n",
            "GP    -0.278553\n",
            "BPG   -0.292484\n",
            "dtype: float64\n"
          ]
        },
        {
          "output_type": "stream",
          "name": "stderr",
          "text": [
            "<ipython-input-105-8fffbd87c87f>:6: FutureWarning: The default value of numeric_only in DataFrame.corrwith is deprecated. In a future version, it will default to False. Select only valid columns or specify the value of numeric_only to silence this warning.\n",
            "  rank_correlations = ShootingGuardDF[features].corrwith(ShootingGuardDF[rank_column], method='pearson')\n"
          ]
        }
      ]
    },
    {
      "cell_type": "code",
      "source": [
        "PointGuardDF = pd.read_csv(pgURL)\n",
        "rank_column = \"#\"\n",
        "features = PointGuardDF.columns[1:]\n",
        "\n",
        "rank_correlations = PointGuardDF[features].corrwith(PointGuardDF[rank_column], method='pearson')\n",
        "positive_rank_correlations = rank_correlations[rank_correlations > 0]\n",
        "threshold = 0.3  # Set your desired threshold\n",
        "positive_rank_correlations = rank_correlations[rank_correlations > threshold]\n",
        "top_N = 5  # Set the number of top features\n",
        "top_N_correlations = rank_correlations.nlargest(top_N)\n",
        "print(top_N_correlations)"
      ],
      "metadata": {
        "colab": {
          "base_uri": "https://localhost:8080/"
        },
        "id": "fT4wYJ68X50_",
        "outputId": "48e62670-7728-4559-d51e-4ab4fef39b4d"
      },
      "execution_count": 106,
      "outputs": [
        {
          "output_type": "stream",
          "name": "stdout",
          "text": [
            "GP    -0.008395\n",
            "ORB   -0.180176\n",
            "3P%   -0.272761\n",
            "FG%   -0.341911\n",
            "FT%   -0.398390\n",
            "dtype: float64\n"
          ]
        },
        {
          "output_type": "stream",
          "name": "stderr",
          "text": [
            "<ipython-input-106-f24746d9c5ba>:5: FutureWarning: The default value of numeric_only in DataFrame.corrwith is deprecated. In a future version, it will default to False. Select only valid columns or specify the value of numeric_only to silence this warning.\n",
            "  rank_correlations = PointGuardDF[features].corrwith(PointGuardDF[rank_column], method='pearson')\n"
          ]
        }
      ]
    },
    {
      "cell_type": "code",
      "source": [
        "SmallForwardDF = pd.read_csv(sfURL)\n",
        "rank_column = \"#\"\n",
        "features = SmallForwardDF.columns[1:]\n",
        "\n",
        "rank_correlations = SmallForwardDF[features].corrwith(SmallForwardDF[rank_column], method='pearson')\n",
        "positive_rank_correlations = rank_correlations[rank_correlations > 0]\n",
        "threshold = 0.3  # Set your desired threshold\n",
        "positive_rank_correlations = rank_correlations[rank_correlations > threshold]\n",
        "top_N = 5  # Set the number of top features\n",
        "top_N_correlations = rank_correlations.nlargest(top_N)\n",
        "print(top_N_correlations)"
      ],
      "metadata": {
        "colab": {
          "base_uri": "https://localhost:8080/"
        },
        "id": "JAlz89tSYzF-",
        "outputId": "802ca7ef-b46e-48a3-cd46-15dc9b84c891"
      },
      "execution_count": 107,
      "outputs": [
        {
          "output_type": "stream",
          "name": "stdout",
          "text": [
            "GP    -0.192331\n",
            "BPG   -0.195964\n",
            "3P%   -0.206452\n",
            "ORB   -0.208009\n",
            "FG%   -0.293963\n",
            "dtype: float64\n"
          ]
        },
        {
          "output_type": "stream",
          "name": "stderr",
          "text": [
            "<ipython-input-107-bc35ab6b469e>:5: FutureWarning: The default value of numeric_only in DataFrame.corrwith is deprecated. In a future version, it will default to False. Select only valid columns or specify the value of numeric_only to silence this warning.\n",
            "  rank_correlations = SmallForwardDF[features].corrwith(SmallForwardDF[rank_column], method='pearson')\n"
          ]
        }
      ]
    },
    {
      "cell_type": "markdown",
      "source": [
        "The linear correlations are negative and close to 0 in many cases, as such it is not reasonable to use a linear model to find the important features in the next section I will try to implement a decision tree to try and output rank, from this I will try to find the sequence of features that lead to higher positions AKA the left side of the tree and see if these features make sense to use to predict ranking."
      ],
      "metadata": {
        "id": "NcokOvYR57wg"
      }
    },
    {
      "cell_type": "code",
      "source": [
        "from sklearn.model_selection import train_test_split\n",
        "from sklearn.tree import DecisionTreeClassifier\n",
        "from sklearn.preprocessing import MinMaxScaler\n",
        "import pandas as pd\n",
        "import numpy as np\n",
        "\n",
        "# Extract features and target variables\n",
        "features = CenterDF.drop('#', axis=1)\n",
        "features = features.drop('Player', axis=1)\n",
        "features = features.drop('Team', axis=1)\n",
        "target = CenterDF['#']\n",
        "\n",
        "# Normalize the features\n",
        "scaler = MinMaxScaler()\n",
        "features_scaled = scaler.fit_transform(features)\n",
        "\n",
        "# Get column names for the features\n",
        "feature_columns = features.columns\n",
        "\n",
        "num_buckets = 11\n",
        "\n",
        "# Determine the number of players per bucket (assuming a total of 55 players)\n",
        "players_per_bucket = 55 // num_buckets\n",
        "\n",
        "# Create an array to hold the buckets\n",
        "rank_buckets = np.zeros_like(target)\n",
        "\n",
        "# Assign ranks to buckets\n",
        "for i in range(num_buckets):\n",
        "    start_rank = i * players_per_bucket + 1\n",
        "    end_rank = min((i + 1) * players_per_bucket, 55)\n",
        "    rank_buckets[start_rank - 1:end_rank] = i + 1\n",
        "\n",
        "# Split data into training and testing sets\n",
        "X_train, X_test, y_train, y_test = train_test_split(features_scaled, target, test_size=0.3, random_state=13)\n",
        "X_train_bucket, X_test_bucket, y_train_bucket, y_test_bucket = train_test_split(features_scaled, rank_buckets, test_size=0.3, random_state=13)\n",
        "\n",
        "# Create and train the decision tree classifier\n",
        "clf = DecisionTreeClassifier()\n",
        "clf.fit(X_train, y_train)\n",
        "\n",
        "# Get the feature importances\n",
        "importances = clf.feature_importances_\n",
        "\n",
        "# Create a dataframe with feature names and importances\n",
        "feature_importances = pd.DataFrame({'Feature': feature_columns, 'Importance': importances})\n",
        "\n",
        "# Sort features by importance in descending order\n",
        "feature_importances = feature_importances.sort_values('Importance', ascending=False)\n",
        "\n",
        "# Print the top 5 most important features\n",
        "print(feature_importances.head(5))\n",
        "\n",
        "# Create and train the decision tree classifier for bucket classification\n",
        "clf_bucket = DecisionTreeClassifier()\n",
        "clf_bucket.fit(X_train_bucket, y_train_bucket)\n",
        "\n",
        "# Get the feature importances for bucket classification\n",
        "importances_bucket = clf_bucket.feature_importances_\n",
        "\n",
        "# Create a dataframe with feature names and importances for bucket classification\n",
        "feature_importances_bucket = pd.DataFrame({'Feature': feature_columns, 'Importance': importances_bucket})\n",
        "\n",
        "# Sort features by importance in descending order for bucket classification\n",
        "feature_importances_bucket = feature_importances_bucket.sort_values('Importance', ascending=False)\n",
        "\n",
        "# Print the top 5 most important features for bucket classification\n",
        "print(\"Top 5 Features for Bucket Classification:\")\n",
        "print(feature_importances_bucket.head(5))\n"
      ],
      "metadata": {
        "colab": {
          "base_uri": "https://localhost:8080/"
        },
        "id": "jIVEwzgbCGvq",
        "outputId": "9b189345-02bc-43fc-f974-702c3e9b1a89"
      },
      "execution_count": 108,
      "outputs": [
        {
          "output_type": "stream",
          "name": "stdout",
          "text": [
            "   Feature  Importance\n",
            "14     RPG    0.138889\n",
            "1      MPG    0.111111\n",
            "19      PF    0.083333\n",
            "9      FTM    0.055556\n",
            "18     TOV    0.055556\n",
            "Top 5 Features for Bucket Classification:\n",
            "   Feature  Importance\n",
            "2      PPG    0.706349\n",
            "4      FGA    0.191511\n",
            "3      FGM    0.102139\n",
            "0       GP    0.000000\n",
            "12     ORB    0.000000\n"
          ]
        }
      ]
    },
    {
      "cell_type": "code",
      "source": [
        "from sklearn.model_selection import train_test_split\n",
        "from sklearn.preprocessing import LabelEncoder\n",
        "from sklearn.ensemble import RandomForestClassifier, GradientBoostingClassifier\n",
        "from sklearn.inspection import permutation_importance\n",
        "from sklearn.linear_model import LassoCV\n",
        "from sklearn.feature_selection import RFE\n",
        "from xgboost import XGBClassifier\n",
        "from sklearn.preprocessing import StandardScaler, MinMaxScaler\n",
        "import pandas as pd\n",
        "\n",
        "# Assuming you have already loaded your dataset into 'CenterDF'\n",
        "\n",
        "# Extract features and target variables\n",
        "features = CenterDF.drop(['#', 'Player', 'Team'], axis=1)\n",
        "target = CenterDF['#']\n",
        "\n",
        "# Normalize the features\n",
        "scaler = MinMaxScaler()\n",
        "features_normalized = scaler.fit_transform(features)\n",
        "\n",
        "# Encode target variable\n",
        "label_encoder = LabelEncoder()\n",
        "target_encoded = label_encoder.fit_transform(target)\n",
        "\n",
        "\n",
        "# Split data into training and testing sets\n",
        "X_train, X_test, y_train, y_test = train_test_split(features_normalized, target, test_size=0.3, random_state=42)\n",
        "\n",
        "\n",
        "# Random Forest Classifier\n",
        "rf_clf = RandomForestClassifier()\n",
        "rf_clf.fit(X_train, y_train)\n",
        "rf_feature_importances = pd.DataFrame({'Feature': features.columns, 'Importance': rf_clf.feature_importances_})\n",
        "rf_top_features = rf_feature_importances.sort_values(by='Importance', ascending=False).head(5)\n",
        "\n",
        "# Gradient Boosting Classifier\n",
        "gb_clf = GradientBoostingClassifier()\n",
        "gb_clf.fit(X_train, y_train)\n",
        "gb_feature_importances = pd.DataFrame({'Feature': features.columns, 'Importance': gb_clf.feature_importances_})\n",
        "gb_top_features = gb_feature_importances.sort_values(by='Importance', ascending=False).head(5)\n",
        "\n",
        "# Permutation Importance\n",
        "perm_importance = permutation_importance(gb_clf, X_test, y_test)\n",
        "perm_sorted_idx = perm_importance.importances_mean.argsort()[::-1][:5]\n",
        "perm_top_features = pd.DataFrame({'Feature': features.columns[perm_sorted_idx], 'Importance': perm_importance.importances_mean[perm_sorted_idx]})\n",
        "\n",
        "# Lasso Regression\n",
        "lasso_cv = LassoCV(cv=5, random_state=42)\n",
        "lasso_cv.fit(X_train, y_train)\n",
        "lasso_top_features = pd.DataFrame({'Feature': features.columns, 'Importance': lasso_cv.coef_})\n",
        "lasso_top_features = lasso_top_features[lasso_top_features['Importance'] != 0].sort_values(by='Importance', ascending=False).head(5)\n",
        "\n",
        "# Recursive Feature Elimination with Gradient Boosting\n",
        "rfe_gb = RFE(estimator=gb_clf, n_features_to_select=5, step=1)\n",
        "rfe_gb.fit(X_train, y_train)\n",
        "rfe_gb_top_features = pd.DataFrame({'Feature': features.columns, 'Selected': rfe_gb.support_})\n",
        "rfe_gb_top_features = rfe_gb_top_features[rfe_gb_top_features['Selected']].drop('Selected', axis=1)\n",
        "\n",
        "\n",
        "\n",
        "# Print top features for each method\n",
        "print(\"Top Features from Random Forest Classifier:\")\n",
        "print(rf_top_features)\n",
        "print(\"\\nTop Features from Gradient Boosting Classifier:\")\n",
        "print(gb_top_features)\n",
        "print(\"\\nTop Features from Permutation Importance:\")\n",
        "print(perm_top_features)\n",
        "print(\"\\nTop Features from Lasso Regression:\")\n",
        "print(lasso_top_features)\n",
        "print(\"\\nTop Features from Recursive Feature Elimination with Gradient Boosting:\")\n",
        "print(rfe_gb_top_features)\n",
        "\n"
      ],
      "metadata": {
        "colab": {
          "base_uri": "https://localhost:8080/",
          "height": 446
        },
        "id": "r2gZIaPmDYFg",
        "outputId": "6d5ee03b-373d-4daa-b161-c179d10dea7b"
      },
      "execution_count": 109,
      "outputs": [
        {
          "output_type": "stream",
          "name": "stderr",
          "text": [
            "/usr/local/lib/python3.10/dist-packages/sklearn/linear_model/_coordinate_descent.py:631: ConvergenceWarning: Objective did not converge. You might want to increase the number of iterations, check the scale of the features or consider increasing regularisation. Duality gap: 2.118e+00, tolerance: 8.127e-01\n",
            "  model = cd_fast.enet_coordinate_descent(\n"
          ]
        },
        {
          "output_type": "error",
          "ename": "KeyboardInterrupt",
          "evalue": "",
          "traceback": [
            "\u001b[0;31m---------------------------------------------------------------------------\u001b[0m",
            "\u001b[0;31mKeyboardInterrupt\u001b[0m                         Traceback (most recent call last)",
            "\u001b[0;32m<ipython-input-109-eb31cdaaf908>\u001b[0m in \u001b[0;36m<cell line: 55>\u001b[0;34m()\u001b[0m\n\u001b[1;32m     53\u001b[0m \u001b[0;31m# Recursive Feature Elimination with Gradient Boosting\u001b[0m\u001b[0;34m\u001b[0m\u001b[0;34m\u001b[0m\u001b[0m\n\u001b[1;32m     54\u001b[0m \u001b[0mrfe_gb\u001b[0m \u001b[0;34m=\u001b[0m \u001b[0mRFE\u001b[0m\u001b[0;34m(\u001b[0m\u001b[0mestimator\u001b[0m\u001b[0;34m=\u001b[0m\u001b[0mgb_clf\u001b[0m\u001b[0;34m,\u001b[0m \u001b[0mn_features_to_select\u001b[0m\u001b[0;34m=\u001b[0m\u001b[0;36m5\u001b[0m\u001b[0;34m,\u001b[0m \u001b[0mstep\u001b[0m\u001b[0;34m=\u001b[0m\u001b[0;36m1\u001b[0m\u001b[0;34m)\u001b[0m\u001b[0;34m\u001b[0m\u001b[0;34m\u001b[0m\u001b[0m\n\u001b[0;32m---> 55\u001b[0;31m \u001b[0mrfe_gb\u001b[0m\u001b[0;34m.\u001b[0m\u001b[0mfit\u001b[0m\u001b[0;34m(\u001b[0m\u001b[0mX_train\u001b[0m\u001b[0;34m,\u001b[0m \u001b[0my_train\u001b[0m\u001b[0;34m)\u001b[0m\u001b[0;34m\u001b[0m\u001b[0;34m\u001b[0m\u001b[0m\n\u001b[0m\u001b[1;32m     56\u001b[0m \u001b[0mrfe_gb_top_features\u001b[0m \u001b[0;34m=\u001b[0m \u001b[0mpd\u001b[0m\u001b[0;34m.\u001b[0m\u001b[0mDataFrame\u001b[0m\u001b[0;34m(\u001b[0m\u001b[0;34m{\u001b[0m\u001b[0;34m'Feature'\u001b[0m\u001b[0;34m:\u001b[0m \u001b[0mfeatures\u001b[0m\u001b[0;34m.\u001b[0m\u001b[0mcolumns\u001b[0m\u001b[0;34m,\u001b[0m \u001b[0;34m'Selected'\u001b[0m\u001b[0;34m:\u001b[0m \u001b[0mrfe_gb\u001b[0m\u001b[0;34m.\u001b[0m\u001b[0msupport_\u001b[0m\u001b[0;34m}\u001b[0m\u001b[0;34m)\u001b[0m\u001b[0;34m\u001b[0m\u001b[0;34m\u001b[0m\u001b[0m\n\u001b[1;32m     57\u001b[0m \u001b[0mrfe_gb_top_features\u001b[0m \u001b[0;34m=\u001b[0m \u001b[0mrfe_gb_top_features\u001b[0m\u001b[0;34m[\u001b[0m\u001b[0mrfe_gb_top_features\u001b[0m\u001b[0;34m[\u001b[0m\u001b[0;34m'Selected'\u001b[0m\u001b[0;34m]\u001b[0m\u001b[0;34m]\u001b[0m\u001b[0;34m.\u001b[0m\u001b[0mdrop\u001b[0m\u001b[0;34m(\u001b[0m\u001b[0;34m'Selected'\u001b[0m\u001b[0;34m,\u001b[0m \u001b[0maxis\u001b[0m\u001b[0;34m=\u001b[0m\u001b[0;36m1\u001b[0m\u001b[0;34m)\u001b[0m\u001b[0;34m\u001b[0m\u001b[0;34m\u001b[0m\u001b[0m\n",
            "\u001b[0;32m/usr/local/lib/python3.10/dist-packages/sklearn/feature_selection/_rfe.py\u001b[0m in \u001b[0;36mfit\u001b[0;34m(self, X, y, **fit_params)\u001b[0m\n\u001b[1;32m    249\u001b[0m         \"\"\"\n\u001b[1;32m    250\u001b[0m         \u001b[0mself\u001b[0m\u001b[0;34m.\u001b[0m\u001b[0m_validate_params\u001b[0m\u001b[0;34m(\u001b[0m\u001b[0;34m)\u001b[0m\u001b[0;34m\u001b[0m\u001b[0;34m\u001b[0m\u001b[0m\n\u001b[0;32m--> 251\u001b[0;31m         \u001b[0;32mreturn\u001b[0m \u001b[0mself\u001b[0m\u001b[0;34m.\u001b[0m\u001b[0m_fit\u001b[0m\u001b[0;34m(\u001b[0m\u001b[0mX\u001b[0m\u001b[0;34m,\u001b[0m \u001b[0my\u001b[0m\u001b[0;34m,\u001b[0m \u001b[0;34m**\u001b[0m\u001b[0mfit_params\u001b[0m\u001b[0;34m)\u001b[0m\u001b[0;34m\u001b[0m\u001b[0;34m\u001b[0m\u001b[0m\n\u001b[0m\u001b[1;32m    252\u001b[0m \u001b[0;34m\u001b[0m\u001b[0m\n\u001b[1;32m    253\u001b[0m     \u001b[0;32mdef\u001b[0m \u001b[0m_fit\u001b[0m\u001b[0;34m(\u001b[0m\u001b[0mself\u001b[0m\u001b[0;34m,\u001b[0m \u001b[0mX\u001b[0m\u001b[0;34m,\u001b[0m \u001b[0my\u001b[0m\u001b[0;34m,\u001b[0m \u001b[0mstep_score\u001b[0m\u001b[0;34m=\u001b[0m\u001b[0;32mNone\u001b[0m\u001b[0;34m,\u001b[0m \u001b[0;34m**\u001b[0m\u001b[0mfit_params\u001b[0m\u001b[0;34m)\u001b[0m\u001b[0;34m:\u001b[0m\u001b[0;34m\u001b[0m\u001b[0;34m\u001b[0m\u001b[0m\n",
            "\u001b[0;32m/usr/local/lib/python3.10/dist-packages/sklearn/feature_selection/_rfe.py\u001b[0m in \u001b[0;36m_fit\u001b[0;34m(self, X, y, step_score, **fit_params)\u001b[0m\n\u001b[1;32m    324\u001b[0m         \u001b[0mfeatures\u001b[0m \u001b[0;34m=\u001b[0m \u001b[0mnp\u001b[0m\u001b[0;34m.\u001b[0m\u001b[0marange\u001b[0m\u001b[0;34m(\u001b[0m\u001b[0mn_features\u001b[0m\u001b[0;34m)\u001b[0m\u001b[0;34m[\u001b[0m\u001b[0msupport_\u001b[0m\u001b[0;34m]\u001b[0m\u001b[0;34m\u001b[0m\u001b[0;34m\u001b[0m\u001b[0m\n\u001b[1;32m    325\u001b[0m         \u001b[0mself\u001b[0m\u001b[0;34m.\u001b[0m\u001b[0mestimator_\u001b[0m \u001b[0;34m=\u001b[0m \u001b[0mclone\u001b[0m\u001b[0;34m(\u001b[0m\u001b[0mself\u001b[0m\u001b[0;34m.\u001b[0m\u001b[0mestimator\u001b[0m\u001b[0;34m)\u001b[0m\u001b[0;34m\u001b[0m\u001b[0;34m\u001b[0m\u001b[0m\n\u001b[0;32m--> 326\u001b[0;31m         \u001b[0mself\u001b[0m\u001b[0;34m.\u001b[0m\u001b[0mestimator_\u001b[0m\u001b[0;34m.\u001b[0m\u001b[0mfit\u001b[0m\u001b[0;34m(\u001b[0m\u001b[0mX\u001b[0m\u001b[0;34m[\u001b[0m\u001b[0;34m:\u001b[0m\u001b[0;34m,\u001b[0m \u001b[0mfeatures\u001b[0m\u001b[0;34m]\u001b[0m\u001b[0;34m,\u001b[0m \u001b[0my\u001b[0m\u001b[0;34m,\u001b[0m \u001b[0;34m**\u001b[0m\u001b[0mfit_params\u001b[0m\u001b[0;34m)\u001b[0m\u001b[0;34m\u001b[0m\u001b[0;34m\u001b[0m\u001b[0m\n\u001b[0m\u001b[1;32m    327\u001b[0m \u001b[0;34m\u001b[0m\u001b[0m\n\u001b[1;32m    328\u001b[0m         \u001b[0;31m# Compute step score when only n_features_to_select features left\u001b[0m\u001b[0;34m\u001b[0m\u001b[0;34m\u001b[0m\u001b[0m\n",
            "\u001b[0;32m/usr/local/lib/python3.10/dist-packages/sklearn/ensemble/_gb.py\u001b[0m in \u001b[0;36mfit\u001b[0;34m(self, X, y, sample_weight, monitor)\u001b[0m\n\u001b[1;32m    536\u001b[0m \u001b[0;34m\u001b[0m\u001b[0m\n\u001b[1;32m    537\u001b[0m         \u001b[0;31m# fit the boosting stages\u001b[0m\u001b[0;34m\u001b[0m\u001b[0;34m\u001b[0m\u001b[0m\n\u001b[0;32m--> 538\u001b[0;31m         n_stages = self._fit_stages(\n\u001b[0m\u001b[1;32m    539\u001b[0m             \u001b[0mX\u001b[0m\u001b[0;34m,\u001b[0m\u001b[0;34m\u001b[0m\u001b[0;34m\u001b[0m\u001b[0m\n\u001b[1;32m    540\u001b[0m             \u001b[0my\u001b[0m\u001b[0;34m,\u001b[0m\u001b[0;34m\u001b[0m\u001b[0;34m\u001b[0m\u001b[0m\n",
            "\u001b[0;32m/usr/local/lib/python3.10/dist-packages/sklearn/ensemble/_gb.py\u001b[0m in \u001b[0;36m_fit_stages\u001b[0;34m(self, X, y, raw_predictions, sample_weight, random_state, X_val, y_val, sample_weight_val, begin_at_stage, monitor)\u001b[0m\n\u001b[1;32m    613\u001b[0m \u001b[0;34m\u001b[0m\u001b[0m\n\u001b[1;32m    614\u001b[0m             \u001b[0;31m# fit next stage of trees\u001b[0m\u001b[0;34m\u001b[0m\u001b[0;34m\u001b[0m\u001b[0m\n\u001b[0;32m--> 615\u001b[0;31m             raw_predictions = self._fit_stage(\n\u001b[0m\u001b[1;32m    616\u001b[0m                 \u001b[0mi\u001b[0m\u001b[0;34m,\u001b[0m\u001b[0;34m\u001b[0m\u001b[0;34m\u001b[0m\u001b[0m\n\u001b[1;32m    617\u001b[0m                 \u001b[0mX\u001b[0m\u001b[0;34m,\u001b[0m\u001b[0;34m\u001b[0m\u001b[0;34m\u001b[0m\u001b[0m\n",
            "\u001b[0;32m/usr/local/lib/python3.10/dist-packages/sklearn/ensemble/_gb.py\u001b[0m in \u001b[0;36m_fit_stage\u001b[0;34m(self, i, X, y, raw_predictions, sample_weight, sample_mask, random_state, X_csc, X_csr)\u001b[0m\n\u001b[1;32m    255\u001b[0m \u001b[0;34m\u001b[0m\u001b[0m\n\u001b[1;32m    256\u001b[0m             \u001b[0mX\u001b[0m \u001b[0;34m=\u001b[0m \u001b[0mX_csr\u001b[0m \u001b[0;32mif\u001b[0m \u001b[0mX_csr\u001b[0m \u001b[0;32mis\u001b[0m \u001b[0;32mnot\u001b[0m \u001b[0;32mNone\u001b[0m \u001b[0;32melse\u001b[0m \u001b[0mX\u001b[0m\u001b[0;34m\u001b[0m\u001b[0;34m\u001b[0m\u001b[0m\n\u001b[0;32m--> 257\u001b[0;31m             \u001b[0mtree\u001b[0m\u001b[0;34m.\u001b[0m\u001b[0mfit\u001b[0m\u001b[0;34m(\u001b[0m\u001b[0mX\u001b[0m\u001b[0;34m,\u001b[0m \u001b[0mresidual\u001b[0m\u001b[0;34m,\u001b[0m \u001b[0msample_weight\u001b[0m\u001b[0;34m=\u001b[0m\u001b[0msample_weight\u001b[0m\u001b[0;34m,\u001b[0m \u001b[0mcheck_input\u001b[0m\u001b[0;34m=\u001b[0m\u001b[0;32mFalse\u001b[0m\u001b[0;34m)\u001b[0m\u001b[0;34m\u001b[0m\u001b[0;34m\u001b[0m\u001b[0m\n\u001b[0m\u001b[1;32m    258\u001b[0m \u001b[0;34m\u001b[0m\u001b[0m\n\u001b[1;32m    259\u001b[0m             \u001b[0;31m# update tree leaves\u001b[0m\u001b[0;34m\u001b[0m\u001b[0;34m\u001b[0m\u001b[0m\n",
            "\u001b[0;32m/usr/local/lib/python3.10/dist-packages/sklearn/tree/_classes.py\u001b[0m in \u001b[0;36mfit\u001b[0;34m(self, X, y, sample_weight, check_input)\u001b[0m\n\u001b[1;32m   1245\u001b[0m         \"\"\"\n\u001b[1;32m   1246\u001b[0m \u001b[0;34m\u001b[0m\u001b[0m\n\u001b[0;32m-> 1247\u001b[0;31m         super().fit(\n\u001b[0m\u001b[1;32m   1248\u001b[0m             \u001b[0mX\u001b[0m\u001b[0;34m,\u001b[0m\u001b[0;34m\u001b[0m\u001b[0;34m\u001b[0m\u001b[0m\n\u001b[1;32m   1249\u001b[0m             \u001b[0my\u001b[0m\u001b[0;34m,\u001b[0m\u001b[0;34m\u001b[0m\u001b[0;34m\u001b[0m\u001b[0m\n",
            "\u001b[0;32m/usr/local/lib/python3.10/dist-packages/sklearn/tree/_classes.py\u001b[0m in \u001b[0;36mfit\u001b[0;34m(self, X, y, sample_weight, check_input)\u001b[0m\n\u001b[1;32m    306\u001b[0m \u001b[0;34m\u001b[0m\u001b[0m\n\u001b[1;32m    307\u001b[0m         \u001b[0;32mif\u001b[0m \u001b[0msample_weight\u001b[0m \u001b[0;32mis\u001b[0m \u001b[0;32mnot\u001b[0m \u001b[0;32mNone\u001b[0m\u001b[0;34m:\u001b[0m\u001b[0;34m\u001b[0m\u001b[0;34m\u001b[0m\u001b[0m\n\u001b[0;32m--> 308\u001b[0;31m             \u001b[0msample_weight\u001b[0m \u001b[0;34m=\u001b[0m \u001b[0m_check_sample_weight\u001b[0m\u001b[0;34m(\u001b[0m\u001b[0msample_weight\u001b[0m\u001b[0;34m,\u001b[0m \u001b[0mX\u001b[0m\u001b[0;34m,\u001b[0m \u001b[0mDOUBLE\u001b[0m\u001b[0;34m)\u001b[0m\u001b[0;34m\u001b[0m\u001b[0;34m\u001b[0m\u001b[0m\n\u001b[0m\u001b[1;32m    309\u001b[0m \u001b[0;34m\u001b[0m\u001b[0m\n\u001b[1;32m    310\u001b[0m         \u001b[0;32mif\u001b[0m \u001b[0mexpanded_class_weight\u001b[0m \u001b[0;32mis\u001b[0m \u001b[0;32mnot\u001b[0m \u001b[0;32mNone\u001b[0m\u001b[0;34m:\u001b[0m\u001b[0;34m\u001b[0m\u001b[0;34m\u001b[0m\u001b[0m\n",
            "\u001b[0;32m/usr/local/lib/python3.10/dist-packages/sklearn/utils/validation.py\u001b[0m in \u001b[0;36m_check_sample_weight\u001b[0;34m(sample_weight, X, dtype, copy, only_non_negative)\u001b[0m\n\u001b[1;32m   1764\u001b[0m         \u001b[0;32mif\u001b[0m \u001b[0mdtype\u001b[0m \u001b[0;32mis\u001b[0m \u001b[0;32mNone\u001b[0m\u001b[0;34m:\u001b[0m\u001b[0;34m\u001b[0m\u001b[0;34m\u001b[0m\u001b[0m\n\u001b[1;32m   1765\u001b[0m             \u001b[0mdtype\u001b[0m \u001b[0;34m=\u001b[0m \u001b[0;34m[\u001b[0m\u001b[0mnp\u001b[0m\u001b[0;34m.\u001b[0m\u001b[0mfloat64\u001b[0m\u001b[0;34m,\u001b[0m \u001b[0mnp\u001b[0m\u001b[0;34m.\u001b[0m\u001b[0mfloat32\u001b[0m\u001b[0;34m]\u001b[0m\u001b[0;34m\u001b[0m\u001b[0;34m\u001b[0m\u001b[0m\n\u001b[0;32m-> 1766\u001b[0;31m         sample_weight = check_array(\n\u001b[0m\u001b[1;32m   1767\u001b[0m             \u001b[0msample_weight\u001b[0m\u001b[0;34m,\u001b[0m\u001b[0;34m\u001b[0m\u001b[0;34m\u001b[0m\u001b[0m\n\u001b[1;32m   1768\u001b[0m             \u001b[0maccept_sparse\u001b[0m\u001b[0;34m=\u001b[0m\u001b[0;32mFalse\u001b[0m\u001b[0;34m,\u001b[0m\u001b[0;34m\u001b[0m\u001b[0;34m\u001b[0m\u001b[0m\n",
            "\u001b[0;32m/usr/local/lib/python3.10/dist-packages/sklearn/utils/validation.py\u001b[0m in \u001b[0;36mcheck_array\u001b[0;34m(array, accept_sparse, accept_large_sparse, dtype, order, copy, force_all_finite, ensure_2d, allow_nd, ensure_min_samples, ensure_min_features, estimator, input_name)\u001b[0m\n\u001b[1;32m    859\u001b[0m         \u001b[0;31m# thereby passing the test made in the lines following the scope\u001b[0m\u001b[0;34m\u001b[0m\u001b[0;34m\u001b[0m\u001b[0m\n\u001b[1;32m    860\u001b[0m         \u001b[0;31m# of warnings context manager.\u001b[0m\u001b[0;34m\u001b[0m\u001b[0;34m\u001b[0m\u001b[0m\n\u001b[0;32m--> 861\u001b[0;31m         \u001b[0;32mwith\u001b[0m \u001b[0mwarnings\u001b[0m\u001b[0;34m.\u001b[0m\u001b[0mcatch_warnings\u001b[0m\u001b[0;34m(\u001b[0m\u001b[0;34m)\u001b[0m\u001b[0;34m:\u001b[0m\u001b[0;34m\u001b[0m\u001b[0;34m\u001b[0m\u001b[0m\n\u001b[0m\u001b[1;32m    862\u001b[0m             \u001b[0;32mtry\u001b[0m\u001b[0;34m:\u001b[0m\u001b[0;34m\u001b[0m\u001b[0;34m\u001b[0m\u001b[0m\n\u001b[1;32m    863\u001b[0m                 \u001b[0mwarnings\u001b[0m\u001b[0;34m.\u001b[0m\u001b[0msimplefilter\u001b[0m\u001b[0;34m(\u001b[0m\u001b[0;34m\"error\"\u001b[0m\u001b[0;34m,\u001b[0m \u001b[0mComplexWarning\u001b[0m\u001b[0;34m)\u001b[0m\u001b[0;34m\u001b[0m\u001b[0;34m\u001b[0m\u001b[0m\n",
            "\u001b[0;32m/usr/lib/python3.10/warnings.py\u001b[0m in \u001b[0;36m__enter__\u001b[0;34m(self)\u001b[0m\n\u001b[1;32m    456\u001b[0m         \u001b[0;32mreturn\u001b[0m \u001b[0;34m\"%s(%s)\"\u001b[0m \u001b[0;34m%\u001b[0m \u001b[0;34m(\u001b[0m\u001b[0mname\u001b[0m\u001b[0;34m,\u001b[0m \u001b[0;34m\", \"\u001b[0m\u001b[0;34m.\u001b[0m\u001b[0mjoin\u001b[0m\u001b[0;34m(\u001b[0m\u001b[0margs\u001b[0m\u001b[0;34m)\u001b[0m\u001b[0;34m)\u001b[0m\u001b[0;34m\u001b[0m\u001b[0;34m\u001b[0m\u001b[0m\n\u001b[1;32m    457\u001b[0m \u001b[0;34m\u001b[0m\u001b[0m\n\u001b[0;32m--> 458\u001b[0;31m     \u001b[0;32mdef\u001b[0m \u001b[0m__enter__\u001b[0m\u001b[0;34m(\u001b[0m\u001b[0mself\u001b[0m\u001b[0;34m)\u001b[0m\u001b[0;34m:\u001b[0m\u001b[0;34m\u001b[0m\u001b[0;34m\u001b[0m\u001b[0m\n\u001b[0m\u001b[1;32m    459\u001b[0m         \u001b[0;32mif\u001b[0m \u001b[0mself\u001b[0m\u001b[0;34m.\u001b[0m\u001b[0m_entered\u001b[0m\u001b[0;34m:\u001b[0m\u001b[0;34m\u001b[0m\u001b[0;34m\u001b[0m\u001b[0m\n\u001b[1;32m    460\u001b[0m             \u001b[0;32mraise\u001b[0m \u001b[0mRuntimeError\u001b[0m\u001b[0;34m(\u001b[0m\u001b[0;34m\"Cannot enter %r twice\"\u001b[0m \u001b[0;34m%\u001b[0m \u001b[0mself\u001b[0m\u001b[0;34m)\u001b[0m\u001b[0;34m\u001b[0m\u001b[0;34m\u001b[0m\u001b[0m\n",
            "\u001b[0;31mKeyboardInterrupt\u001b[0m: "
          ]
        }
      ]
    },
    {
      "cell_type": "code",
      "source": [
        "nbaStats_df = pd.read_csv(nbaStatsURL)\n",
        "nbaStats_df.fillna(0, inplace=True)\n",
        "print(nbaStats_df)"
      ],
      "metadata": {
        "colab": {
          "base_uri": "https://localhost:8080/"
        },
        "id": "VvsxJ1qTb4Ko",
        "outputId": "9ae43b84-19ba-4a12-b48e-f54bfe25043e"
      },
      "execution_count": 110,
      "outputs": [
        {
          "output_type": "stream",
          "name": "stdout",
          "text": [
            "       #            Player   Pos  Age   Tm   G  GS    MP   FG   FGA  ...  DRB  \\\n",
            "0      1  Precious Achiuwa  C-PF   24  TOT  45   6  19.9  3.1   6.5  ...  3.6   \n",
            "1      1  Precious Achiuwa     C   24  TOR  25   0  17.5  3.1   6.8  ...  3.4   \n",
            "2      1  Precious Achiuwa    PF   24  NYK  20   6  22.9  3.1   6.1  ...  3.9   \n",
            "3      2       Bam Adebayo     C   26  MIA  42  42  34.5  7.6  15.0  ...  8.3   \n",
            "4      3      Ochai Agbaji    SG   23  UTA  51  10  19.7  2.1   4.9  ...  1.8   \n",
            "..   ...               ...   ...  ...  ...  ..  ..   ...  ...   ...  ...  ...   \n",
            "576  529     Dylan Windler    SF   27  LAL   3   0   3.0  1.0   1.7  ...  0.7   \n",
            "577  530     James Wiseman     C   22  DET  32   0  14.0  2.5   3.7  ...  2.5   \n",
            "578  531    Christian Wood    PF   28  LAL  47   1  17.8  2.4   5.3  ...  4.4   \n",
            "579  532      Delon Wright    PG   31  WAS  29   0  15.1  1.6   4.0  ...  1.5   \n",
            "580  533    Thaddeus Young    PF   35  TOR  23   6  15.2  2.3   3.8  ...  2.0   \n",
            "\n",
            "      TRB  AST  STL  BLK  TOV   PF   PTS  Player-additional  Unnamed: 31  \n",
            "0     5.9  1.3  0.6  0.7  1.0  1.8   7.3          achiupr01          0.0  \n",
            "1     5.4  1.8  0.6  0.5  1.2  1.6   7.7          achiupr01          0.0  \n",
            "2     6.5  0.8  0.6  0.9  0.8  2.1   6.9          achiupr01          0.0  \n",
            "3    10.5  4.0  1.0  1.0  2.4  2.5  20.2          adebaba01          0.0  \n",
            "4     2.5  0.9  0.5  0.6  0.7  1.3   5.4          agbajoc01          0.0  \n",
            "..    ...  ...  ...  ...  ...  ...   ...                ...          ...  \n",
            "576   0.7  0.7  0.0  0.0  0.0  0.3   3.0          windldy01          0.0  \n",
            "577   3.9  0.6  0.1  0.7  0.8  1.9   5.8          wisemja01          0.0  \n",
            "578   5.2  1.0  0.3  0.7  1.0  1.4   6.9           woodch01          0.0  \n",
            "579   1.9  2.7  1.2  0.2  0.3  0.7   4.4          wrighde01          0.0  \n",
            "580   3.3  2.2  0.8  0.1  0.5  1.7   5.0          youngth01          0.0  \n",
            "\n",
            "[581 rows x 32 columns]\n"
          ]
        }
      ]
    },
    {
      "cell_type": "code",
      "source": [
        "print(CenterDF)"
      ],
      "metadata": {
        "colab": {
          "base_uri": "https://localhost:8080/"
        },
        "id": "i-M2P-aefXtG",
        "outputId": "987bce73-e1ce-4052-badb-a4c97a782fc6"
      },
      "execution_count": 111,
      "outputs": [
        {
          "output_type": "stream",
          "name": "stdout",
          "text": [
            "     #                Player Team  GP   MPG   PPG   FGM   FGA    FG%  3PM  \\\n",
            "0    1           Joel Embiid  PHI  34  34.0  35.3  11.8  22.2  0.533  1.2   \n",
            "1    2          Nikola Jokic  DEN  50  33.9  26.3  10.3  17.6  0.584  1.1   \n",
            "2    3         Anthony Davis  LAL  49  36.0  24.8   9.5  17.2  0.553  0.3   \n",
            "3    4        Alperen Sengun  HOU  51  32.4  21.3   8.5  15.7  0.541  0.5   \n",
            "4    5     Victor Wembanyama  SAS  46  28.4  20.3   7.5  16.1  0.464  1.5   \n",
            "5    6    Kristaps Porzingis  BOS  38  29.8  20.2   6.8  12.9  0.528  1.8   \n",
            "6    7           Bam Adebayo  MIA  42  34.5  20.2   7.6  15.0  0.509  0.0   \n",
            "7    8      Domantas Sabonis  SAC  50  35.6  19.9   8.0  12.9  0.620  0.5   \n",
            "8    9        Nikola Vucevic  CHI  47  34.2  17.3   7.4  15.6  0.475  1.1   \n",
            "9   10          Myles Turner  IND  50  27.3  17.0   6.2  12.0  0.515  1.4   \n",
            "10  11         Chet Holmgren  OKC  51  30.2  16.9   6.4  12.0  0.535  1.7   \n",
            "11  12         Jarrett Allen  CLE  45  30.5  15.4   6.3   9.8  0.641  0.0   \n",
            "12  13          John Collins  UTA  49  27.8  14.4   5.7  10.9  0.522  1.2   \n",
            "13  14     Jonas Valanciunas  NOP  51  25.9  14.0   5.5   9.7  0.568  0.6   \n",
            "14  15           Rudy Gobert  MIN  51  33.4  13.7   5.2   7.9  0.649  0.0   \n",
            "15  16           Brook Lopez  MIL  50  31.7  13.2   5.0  10.1  0.492  1.8   \n",
            "16  17          Bobby Portis  MIL  53  23.9  12.5   5.0  10.2  0.494  1.2   \n",
            "17  18              Naz Reid  MIN  52  22.4  12.3   4.7   9.5  0.488  1.9   \n",
            "18  19       Nicolas Claxton  BRK  41  29.7  12.2   5.3   8.5  0.623  0.0   \n",
            "19  20           Ivica Zubac  LAC  40  26.7  12.2   5.2   7.9  0.658  0.0   \n",
            "20  21          Jusuf Nurkic  PHX  49  27.4  12.0   4.7   9.0  0.518  0.4   \n",
            "21  22          Zach Collins  SAS  40  24.8  12.0   4.6   9.6  0.482  0.9   \n",
            "22  23          Clint Capela  ATL  47  25.7  11.5   4.8   8.4  0.575  0.0   \n",
            "23  24            Moe Wagner  ORL  50  18.8  11.2   4.3   7.3  0.582  0.5   \n",
            "24  25          Jakob Poeltl  TOR  41  27.0  11.0   4.9   7.0  0.694  0.0   \n",
            "25  26        Daniel Gafford  WAS  45  26.5  10.9   4.5   6.5  0.690  0.0   \n",
            "26  27           Jalen Smith  IND  38  18.1  10.8   4.2   6.7  0.632  1.2   \n",
            "27  28          Santi Aldama  MEM  40  24.4  10.7   4.0   9.2  0.436  1.7   \n",
            "28  29        Onyeka Okongwu  ATL  51  25.5  10.2   4.0   6.5  0.616  0.4   \n",
            "29  30           Dario Saric  GSW  47  20.0  10.1   3.5   7.2  0.485  1.5   \n",
            "30  31         Nick Richards  CHA  42  25.8   9.5   3.7   5.4  0.681  0.0   \n",
            "31  32            Duop Reath  POR  38  17.6   9.1   3.3   6.9  0.485  1.4   \n",
            "32  33            Kevin Love  MIA  41  17.7   9.0   2.8   6.5  0.433  1.5   \n",
            "33  34        Walker Kessler  UTA  45  23.2   8.4   3.7   5.6  0.661  0.1   \n",
            "34  35        Andre Drummond  CHI  52  16.5   8.1   3.3   5.9  0.565  0.0   \n",
            "35  36            Al Horford  BOS  43  27.0   7.9   3.0   6.2  0.477  1.7   \n",
            "36  37        Day'Ron Sharpe  BRK  37  16.0   7.5   3.0   5.2  0.575  0.0   \n",
            "37  38    Isaiah Hartenstein  NYK  50  25.6   7.1   2.9   4.6  0.619  0.0   \n",
            "38  39        Isaiah Jackson  IND  40  13.1   6.6   2.7   4.1  0.654  0.0   \n",
            "39  40  Trayce Jackson-Davis  GSW  37  13.3   6.5   2.8   4.0  0.689  0.0   \n",
            "40  41          Daniel Theis  LAC  39  17.1   6.4   2.6   4.8  0.534  0.4   \n",
            "41  42         Chris Boucher  TOR  45  14.0   6.2   2.1   4.4  0.485  0.6   \n",
            "42  43          Goga Bitadze  ORL  43  19.0   6.2   2.6   4.2  0.615  0.0   \n",
            "43  44        Paul Reed, Jr.  PHI  51  16.9   6.1   2.7   5.0  0.535  0.2   \n",
            "44  45            Jeff Green  HOU  49  16.7   6.1   2.0   4.1  0.485  0.4   \n",
            "45  46          Drew Eubanks  PHX  46  16.2   5.8   2.3   3.7  0.633  0.1   \n",
            "46  47          Kevon Looney  GSW  49  18.8   5.2   2.2   3.6  0.615  0.0   \n",
            "47  48         Chimezie Metu  PHX  37  12.1   5.0   1.8   3.5  0.508  0.4   \n",
            "48  49          JaVale McGee  SAC  38   8.1   4.5   1.9   3.1  0.629  0.0   \n",
            "49  50         Dwight Powell  DAL  45  15.8   4.2   1.4   2.0  0.707  0.0   \n",
            "50  51      Tristan Thompson  CLE  36  12.4   3.8   1.7   2.6  0.649  0.0   \n",
            "51  52       Jaylin Williams  OKC  43  12.3   3.7   1.3   3.3  0.387  0.7   \n",
            "52  53          Jaxson Hayes  LAL  42  10.8   3.6   1.5   2.2  0.692  0.0   \n",
            "53  54            Zeke Nnaji  DEN  37   9.4   3.1   1.1   2.5  0.457  0.1   \n",
            "\n",
            "    ...   FTA    FT%  ORB  DRB   RPG  APG  SPG  BPG  TOV   PF  \n",
            "0   ...  11.9  0.883  2.6  8.7  11.3  5.7  1.1  1.8  3.7  2.9  \n",
            "1   ...   5.8  0.819  3.0  9.2  12.2  9.0  1.2  1.0  3.0  2.5  \n",
            "2   ...   6.7  0.806  3.1  9.1  12.2  3.9  1.2  2.4  2.1  2.4  \n",
            "3   ...   5.3  0.717  2.8  6.5   9.3  5.0  1.1  0.7  2.6  3.3  \n",
            "4   ...   4.7  0.807  2.2  7.9  10.1  3.1  1.2  3.1  3.4  2.2  \n",
            "5   ...   5.7  0.848  1.6  5.3   6.9  1.9  0.6  1.9  1.7  2.8  \n",
            "6   ...   6.4  0.773  2.2  8.3  10.5  4.0  1.0  1.0  2.4  2.5  \n",
            "7   ...   5.0  0.690  3.2  9.9  13.1  8.1  0.8  0.5  3.3  3.1  \n",
            "8   ...   1.6  0.877  2.6  7.9  10.5  3.5  0.7  0.9  1.5  2.5  \n",
            "9   ...   4.2  0.778  1.6  5.3   6.9  1.3  0.5  1.8  1.4  3.2  \n",
            "10  ...   3.1  0.763  1.5  6.0   7.5  2.8  0.7  2.6  1.7  2.5  \n",
            "11  ...   3.7  0.756  3.5  7.0  10.5  2.8  0.8  1.2  1.8  2.3  \n",
            "12  ...   2.3  0.781  2.2  5.9   8.1  1.0  0.6  0.8  1.3  2.8  \n",
            "13  ...   3.0  0.796  2.7  6.9   9.5  2.4  0.5  1.0  1.4  3.0  \n",
            "14  ...   5.3  0.639  3.5  9.0  12.5  1.2  0.6  2.0  1.5  3.0  \n",
            "15  ...   1.8  0.831  1.6  3.9   5.5  1.6  0.6  2.7  0.9  2.6  \n",
            "16  ...   1.7  0.787  1.6  5.3   6.9  1.0  0.8  0.4  0.9  2.5  \n",
            "17  ...   1.4  0.760  0.9  3.7   4.6  1.1  0.7  0.8  1.2  1.9  \n",
            "18  ...   2.7  0.573  3.0  7.3  10.3  1.9  0.7  2.3  1.2  2.5  \n",
            "19  ...   2.7  0.648  3.2  6.4   9.5  1.2  0.2  1.3  1.1  2.8  \n",
            "20  ...   3.3  0.689  2.6  7.6  10.2  3.7  1.0  1.0  2.1  3.4  \n",
            "21  ...   2.4  0.773  1.8  3.8   5.6  3.1  0.5  0.7  2.1  3.3  \n",
            "22  ...   2.8  0.649  4.8  5.8  10.6  1.0  0.6  1.5  0.9  2.4  \n",
            "23  ...   2.8  0.793  1.5  3.0   4.5  1.3  0.5  0.3  1.2  2.2  \n",
            "24  ...   2.2  0.551  2.7  5.8   8.5  2.4  0.7  1.5  1.7  3.0  \n",
            "25  ...   2.6  0.706  2.9  5.1   8.0  1.5  1.0  2.2  1.0  3.3  \n",
            "26  ...   1.7  0.703  1.6  4.0   5.6  1.0  0.3  0.7  0.8  2.3  \n",
            "27  ...   1.4  0.625  1.2  4.5   5.7  2.0  0.7  0.7  1.2  1.5  \n",
            "28  ...   2.1  0.830  2.6  4.2   6.9  1.4  0.5  1.1  0.9  2.9  \n",
            "29  ...   1.8  0.860  1.4  4.0   5.3  2.5  0.6  0.2  1.3  2.1  \n",
            "30  ...   2.9  0.746  2.6  5.3   8.0  0.9  0.3  1.3  1.1  2.7  \n",
            "31  ...   1.3  0.760  1.4  2.5   3.8  1.2  0.5  0.5  0.8  2.5  \n",
            "32  ...   2.3  0.787  1.1  5.1   6.2  2.3  0.3  0.2  0.8  1.8  \n",
            "33  ...   1.6  0.542  2.6  4.9   7.5  0.8  0.5  2.8  1.0  2.1  \n",
            "34  ...   2.6  0.551  3.4  5.2   8.5  0.5  1.1  0.7  1.0  1.7  \n",
            "35  ...   0.4  0.813  1.3  5.5   6.8  2.9  0.6  1.0  0.8  1.5  \n",
            "36  ...   2.4  0.614  2.8  4.2   7.0  1.4  0.5  0.9  1.0  2.3  \n",
            "37  ...   2.0  0.707  3.4  5.3   8.7  2.0  1.2  1.1  1.2  2.9  \n",
            "38  ...   1.8  0.722  1.5  2.5   4.0  0.9  0.6  1.1  0.7  2.6  \n",
            "39  ...   1.8  0.585  1.5  2.5   4.1  0.9  0.3  0.8  0.7  1.6  \n",
            "40  ...   1.1  0.721  1.5  2.2   3.7  1.0  0.5  0.9  0.7  2.4  \n",
            "41  ...   1.8  0.759  1.2  2.9   4.1  0.4  0.3  0.4  0.5  1.4  \n",
            "42  ...   1.6  0.676  2.2  3.6   5.8  1.6  0.6  1.4  0.7  2.1  \n",
            "43  ...   0.8  0.707  2.1  3.1   5.2  1.2  0.7  0.8  0.7  2.3  \n",
            "44  ...   2.2  0.830  0.6  1.6   2.1  0.8  0.2  0.4  0.7  1.5  \n",
            "45  ...   1.4  0.727  1.3  3.0   4.3  1.0  0.3  0.8  1.0  1.7  \n",
            "46  ...   1.2  0.690  2.3  4.3   6.6  2.2  0.5  0.4  0.8  2.4  \n",
            "47  ...   1.2  0.884  0.6  2.3   3.0  0.5  0.5  0.2  0.7  1.1  \n",
            "48  ...   1.1  0.581  1.0  1.9   2.9  0.4  0.2  0.5  0.8  1.1  \n",
            "49  ...   1.8  0.728  1.8  2.2   4.0  1.6  0.5  0.4  0.6  2.2  \n",
            "50  ...   1.2  0.310  1.6  2.3   3.9  1.1  0.2  0.3  0.6  1.4  \n",
            "51  ...   0.4  0.842  0.6  2.7   3.2  1.3  0.4  0.4  0.4  1.4  \n",
            "52  ...   1.0  0.610  0.7  1.4   2.1  0.5  0.4  0.4  0.5  1.7  \n",
            "53  ...   1.1  0.641  1.1  1.0   2.1  0.5  0.2  0.5  0.6  1.5  \n",
            "\n",
            "[54 rows x 23 columns]\n"
          ]
        }
      ]
    },
    {
      "cell_type": "code",
      "source": [
        "\n",
        "# Extract the unique names of players from both DataFrames\n",
        "nba_players = set(nbaStats_df['Player'])\n",
        "center_players = set(CenterDF['Player'])\n",
        "\n",
        "# Find the intersection of player names between the two DataFrames\n",
        "common_players = nba_players.intersection(center_players)\n",
        "\n",
        "# Create a new DataFrame to store the merged data\n",
        "new_table = pd.DataFrame(columns=['Player', 'Rank'] + list(CenterDF.columns[1:]))\n",
        "\n",
        "# Iterate over the common player names and retrieve their rank from nbaStats_df and stats from CenterDF\n",
        "for player in common_players:\n",
        "    rank = nbaStats_df.loc[nbaStats_df['Player'] == player, '#'].values[0]\n",
        "    player_stats = CenterDF.loc[CenterDF['Player'] == player].values.tolist()[0][1:]\n",
        "    new_row = [player, rank] + player_stats\n",
        "    new_table.loc[len(new_table)] = new_row\n",
        "\n",
        "sorted_table = new_table.sort_values(by='Rank')\n",
        "# Display the new table\n",
        "print(sorted_table)\n"
      ],
      "metadata": {
        "colab": {
          "base_uri": "https://localhost:8080/"
        },
        "id": "VwFflZbqgSEb",
        "outputId": "8f9c9267-1aba-4f15-dadb-0c044b0fe67d"
      },
      "execution_count": 112,
      "outputs": [
        {
          "output_type": "stream",
          "name": "stdout",
          "text": [
            "                  Player  Rank                Player Team  GP   MPG   PPG  \\\n",
            "16           Bam Adebayo     2           Bam Adebayo  MIA  42  34.5  20.2   \n",
            "9           Santi Aldama     4          Santi Aldama  MEM  40  24.4  10.7   \n",
            "13         Jarrett Allen     7         Jarrett Allen  CLE  45  30.5  15.4   \n",
            "28          Goga Bitadze    42          Goga Bitadze  ORL  43  19.0   6.2   \n",
            "6          Chris Boucher    53         Chris Boucher  TOR  45  14.0   6.2   \n",
            "18          Clint Capela    82          Clint Capela  ATL  47  25.7  11.5   \n",
            "21          John Collins    95          John Collins  UTA  49  27.8  14.4   \n",
            "11          Zach Collins    96          Zach Collins  SAS  40  24.8  12.0   \n",
            "5          Anthony Davis   108         Anthony Davis  LAL  49  36.0  24.8   \n",
            "40        Andre Drummond   123        Andre Drummond  CHI  52  16.5   8.1   \n",
            "12           Joel Embiid   132           Joel Embiid  PHI  34  34.0  35.3   \n",
            "30          Drew Eubanks   133          Drew Eubanks  PHX  46  16.2   5.8   \n",
            "7         Daniel Gafford   147        Daniel Gafford  WAS  45  26.5  10.9   \n",
            "32           Rudy Gobert   162           Rudy Gobert  MIN  51  33.4  13.7   \n",
            "14            Jeff Green   172            Jeff Green  HOU  49  16.7   6.1   \n",
            "34    Isaiah Hartenstein   191    Isaiah Hartenstein  NYK  50  25.6   7.1   \n",
            "19          Jaxson Hayes   194          Jaxson Hayes  LAL  42  10.8   3.6   \n",
            "31         Chet Holmgren   208         Chet Holmgren  OKC  51  30.2  16.9   \n",
            "23            Al Horford   210            Al Horford  BOS  43  27.0   7.9   \n",
            "38        Isaiah Jackson   227        Isaiah Jackson  IND  40  13.1   6.6   \n",
            "2   Trayce Jackson-Davis   230  Trayce Jackson-Davis  GSW  37  13.3   6.5   \n",
            "42        Walker Kessler   255        Walker Kessler  UTA  45  23.2   8.4   \n",
            "20          Kevon Looney   282          Kevon Looney  GSW  49  18.8   5.2   \n",
            "33           Brook Lopez   283           Brook Lopez  MIL  50  31.7  13.2   \n",
            "25            Kevin Love   285            Kevin Love  MIA  41  17.7   9.0   \n",
            "24          JaVale McGee   310          JaVale McGee  SAC  38   8.1   4.5   \n",
            "22         Chimezie Metu   316         Chimezie Metu  PHX  37  12.1   5.0   \n",
            "39            Zeke Nnaji   353            Zeke Nnaji  DEN  37   9.4   3.1   \n",
            "27        Onyeka Okongwu   362        Onyeka Okongwu  ATL  51  25.5  10.2   \n",
            "29          Jakob Poeltl   378          Jakob Poeltl  TOR  41  27.0  11.0   \n",
            "15          Bobby Portis   385          Bobby Portis  MIL  53  23.9  12.5   \n",
            "4          Dwight Powell   388         Dwight Powell  DAL  45  15.8   4.2   \n",
            "0             Duop Reath   400            Duop Reath  POR  38  17.6   9.1   \n",
            "17              Naz Reid   404              Naz Reid  MIN  52  22.4  12.3   \n",
            "1          Nick Richards   406         Nick Richards  CHA  42  25.8   9.5   \n",
            "10      Domantas Sabonis   420      Domantas Sabonis  SAC  50  35.6  19.9   \n",
            "37        Day'Ron Sharpe   435        Day'Ron Sharpe  BRK  37  16.0   7.5   \n",
            "41           Jalen Smith   450           Jalen Smith  IND  38  18.1  10.8   \n",
            "26          Daniel Theis   466          Daniel Theis  LAC  39  17.1   6.4   \n",
            "3       Tristan Thompson   471      Tristan Thompson  CLE  36  12.4   3.8   \n",
            "35          Myles Turner   482          Myles Turner  IND  50  27.3  17.0   \n",
            "8      Victor Wembanyama   507     Victor Wembanyama  SAS  46  28.4  20.3   \n",
            "36       Jaylin Williams   519       Jaylin Williams  OKC  43  12.3   3.7   \n",
            "\n",
            "     FGM   FGA    FG%  ...   FTA    FT%  ORB  DRB   RPG  APG  SPG  BPG  TOV  \\\n",
            "16   7.6  15.0  0.509  ...   6.4  0.773  2.2  8.3  10.5  4.0  1.0  1.0  2.4   \n",
            "9    4.0   9.2  0.436  ...   1.4  0.625  1.2  4.5   5.7  2.0  0.7  0.7  1.2   \n",
            "13   6.3   9.8  0.641  ...   3.7  0.756  3.5  7.0  10.5  2.8  0.8  1.2  1.8   \n",
            "28   2.6   4.2  0.615  ...   1.6  0.676  2.2  3.6   5.8  1.6  0.6  1.4  0.7   \n",
            "6    2.1   4.4  0.485  ...   1.8  0.759  1.2  2.9   4.1  0.4  0.3  0.4  0.5   \n",
            "18   4.8   8.4  0.575  ...   2.8  0.649  4.8  5.8  10.6  1.0  0.6  1.5  0.9   \n",
            "21   5.7  10.9  0.522  ...   2.3  0.781  2.2  5.9   8.1  1.0  0.6  0.8  1.3   \n",
            "11   4.6   9.6  0.482  ...   2.4  0.773  1.8  3.8   5.6  3.1  0.5  0.7  2.1   \n",
            "5    9.5  17.2  0.553  ...   6.7  0.806  3.1  9.1  12.2  3.9  1.2  2.4  2.1   \n",
            "40   3.3   5.9  0.565  ...   2.6  0.551  3.4  5.2   8.5  0.5  1.1  0.7  1.0   \n",
            "12  11.8  22.2  0.533  ...  11.9  0.883  2.6  8.7  11.3  5.7  1.1  1.8  3.7   \n",
            "30   2.3   3.7  0.633  ...   1.4  0.727  1.3  3.0   4.3  1.0  0.3  0.8  1.0   \n",
            "7    4.5   6.5  0.690  ...   2.6  0.706  2.9  5.1   8.0  1.5  1.0  2.2  1.0   \n",
            "32   5.2   7.9  0.649  ...   5.3  0.639  3.5  9.0  12.5  1.2  0.6  2.0  1.5   \n",
            "14   2.0   4.1  0.485  ...   2.2  0.830  0.6  1.6   2.1  0.8  0.2  0.4  0.7   \n",
            "34   2.9   4.6  0.619  ...   2.0  0.707  3.4  5.3   8.7  2.0  1.2  1.1  1.2   \n",
            "19   1.5   2.2  0.692  ...   1.0  0.610  0.7  1.4   2.1  0.5  0.4  0.4  0.5   \n",
            "31   6.4  12.0  0.535  ...   3.1  0.763  1.5  6.0   7.5  2.8  0.7  2.6  1.7   \n",
            "23   3.0   6.2  0.477  ...   0.4  0.813  1.3  5.5   6.8  2.9  0.6  1.0  0.8   \n",
            "38   2.7   4.1  0.654  ...   1.8  0.722  1.5  2.5   4.0  0.9  0.6  1.1  0.7   \n",
            "2    2.8   4.0  0.689  ...   1.8  0.585  1.5  2.5   4.1  0.9  0.3  0.8  0.7   \n",
            "42   3.7   5.6  0.661  ...   1.6  0.542  2.6  4.9   7.5  0.8  0.5  2.8  1.0   \n",
            "20   2.2   3.6  0.615  ...   1.2  0.690  2.3  4.3   6.6  2.2  0.5  0.4  0.8   \n",
            "33   5.0  10.1  0.492  ...   1.8  0.831  1.6  3.9   5.5  1.6  0.6  2.7  0.9   \n",
            "25   2.8   6.5  0.433  ...   2.3  0.787  1.1  5.1   6.2  2.3  0.3  0.2  0.8   \n",
            "24   1.9   3.1  0.629  ...   1.1  0.581  1.0  1.9   2.9  0.4  0.2  0.5  0.8   \n",
            "22   1.8   3.5  0.508  ...   1.2  0.884  0.6  2.3   3.0  0.5  0.5  0.2  0.7   \n",
            "39   1.1   2.5  0.457  ...   1.1  0.641  1.1  1.0   2.1  0.5  0.2  0.5  0.6   \n",
            "27   4.0   6.5  0.616  ...   2.1  0.830  2.6  4.2   6.9  1.4  0.5  1.1  0.9   \n",
            "29   4.9   7.0  0.694  ...   2.2  0.551  2.7  5.8   8.5  2.4  0.7  1.5  1.7   \n",
            "15   5.0  10.2  0.494  ...   1.7  0.787  1.6  5.3   6.9  1.0  0.8  0.4  0.9   \n",
            "4    1.4   2.0  0.707  ...   1.8  0.728  1.8  2.2   4.0  1.6  0.5  0.4  0.6   \n",
            "0    3.3   6.9  0.485  ...   1.3  0.760  1.4  2.5   3.8  1.2  0.5  0.5  0.8   \n",
            "17   4.7   9.5  0.488  ...   1.4  0.760  0.9  3.7   4.6  1.1  0.7  0.8  1.2   \n",
            "1    3.7   5.4  0.681  ...   2.9  0.746  2.6  5.3   8.0  0.9  0.3  1.3  1.1   \n",
            "10   8.0  12.9  0.620  ...   5.0  0.690  3.2  9.9  13.1  8.1  0.8  0.5  3.3   \n",
            "37   3.0   5.2  0.575  ...   2.4  0.614  2.8  4.2   7.0  1.4  0.5  0.9  1.0   \n",
            "41   4.2   6.7  0.632  ...   1.7  0.703  1.6  4.0   5.6  1.0  0.3  0.7  0.8   \n",
            "26   2.6   4.8  0.534  ...   1.1  0.721  1.5  2.2   3.7  1.0  0.5  0.9  0.7   \n",
            "3    1.7   2.6  0.649  ...   1.2  0.310  1.6  2.3   3.9  1.1  0.2  0.3  0.6   \n",
            "35   6.2  12.0  0.515  ...   4.2  0.778  1.6  5.3   6.9  1.3  0.5  1.8  1.4   \n",
            "8    7.5  16.1  0.464  ...   4.7  0.807  2.2  7.9  10.1  3.1  1.2  3.1  3.4   \n",
            "36   1.3   3.3  0.387  ...   0.4  0.842  0.6  2.7   3.2  1.3  0.4  0.4  0.4   \n",
            "\n",
            "     PF  \n",
            "16  2.5  \n",
            "9   1.5  \n",
            "13  2.3  \n",
            "28  2.1  \n",
            "6   1.4  \n",
            "18  2.4  \n",
            "21  2.8  \n",
            "11  3.3  \n",
            "5   2.4  \n",
            "40  1.7  \n",
            "12  2.9  \n",
            "30  1.7  \n",
            "7   3.3  \n",
            "32  3.0  \n",
            "14  1.5  \n",
            "34  2.9  \n",
            "19  1.7  \n",
            "31  2.5  \n",
            "23  1.5  \n",
            "38  2.6  \n",
            "2   1.6  \n",
            "42  2.1  \n",
            "20  2.4  \n",
            "33  2.6  \n",
            "25  1.8  \n",
            "24  1.1  \n",
            "22  1.1  \n",
            "39  1.5  \n",
            "27  2.9  \n",
            "29  3.0  \n",
            "15  2.5  \n",
            "4   2.2  \n",
            "0   2.5  \n",
            "17  1.9  \n",
            "1   2.7  \n",
            "10  3.1  \n",
            "37  2.3  \n",
            "41  2.3  \n",
            "26  2.4  \n",
            "3   1.4  \n",
            "35  3.2  \n",
            "8   2.2  \n",
            "36  1.4  \n",
            "\n",
            "[43 rows x 24 columns]\n"
          ]
        }
      ]
    },
    {
      "cell_type": "markdown",
      "source": [
        "Now that I know i have garbage data, I want to use rankings from 2k that has an entire team dedicated to ranking these players. I will try to join the 2k rankings with the stats on the players and from there use multiple models to determine feature weights"
      ],
      "metadata": {
        "id": "CeFL8m_ntVme"
      }
    },
    {
      "cell_type": "code",
      "source": [
        "twokC_URL = 'https://raw.githubusercontent.com/ryanzambrano/scout-ai/main/model/2kC.csv'\n",
        "\n",
        "twokPF_URL = 'https://raw.githubusercontent.com/ryanzambrano/scout-ai/main/model/2kPF.csv'\n",
        "\n",
        "twokSG_URL = 'https://raw.githubusercontent.com/ryanzambrano/scout-ai/main/model/2kSG.csv'\n",
        "\n",
        "twokSF_URL = 'https://raw.githubusercontent.com/ryanzambrano/scout-ai/main/model/2kSF.csv'\n",
        "\n",
        "twokPG_URL = 'https://raw.githubusercontent.com/ryanzambrano/scout-ai/main/model/2kPG.csv'\n"
      ],
      "metadata": {
        "id": "-Jw0CPCit0c2"
      },
      "execution_count": 113,
      "outputs": []
    },
    {
      "cell_type": "code",
      "source": [
        "# prompt: generate five dataframes from the URLs in the block above, append 2k to the name of the variables and then print them all\n",
        "twokC_df = pd.read_csv(twokC_URL, index_col=False)\n",
        "twokPF_df = pd.read_csv(twokPF_URL)\n",
        "twokSG_df = pd.read_csv(twokSG_URL)\n",
        "twokSF_df = pd.read_csv(twokSF_URL)\n",
        "twokPG_df = pd.read_csv(twokPG_URL)\n",
        "\n",
        "print(twokC_df)\n",
        "\n"
      ],
      "metadata": {
        "colab": {
          "base_uri": "https://localhost:8080/"
        },
        "id": "Ne1UNoD_vKmW",
        "outputId": "96880f46-fa7c-4608-831e-548083fc1251"
      },
      "execution_count": 114,
      "outputs": [
        {
          "output_type": "stream",
          "name": "stdout",
          "text": [
            "      #                                             Player  OVR  3PT  DNK\n",
            "0     1  Joel Embiid NBA All-Star 34 Badges Joel Embiid...   98   80   80\n",
            "1     2  Nikola Jokic NBA All-Star 43 Badges Nikola Jok...   98   80   75\n",
            "2     3  Anthony Davis NBA All-Star 31 Badges Anthony D...   94   70   88\n",
            "3     4  Victor Wembanyama 11 Badges Victor Wembanyama ...   88   74   75\n",
            "4     5  Bam Adebayo NBA All-Star 32 Badges Bam Adebayo...   88   65   80\n",
            "..  ...                                                ...  ...  ...  ...\n",
            "95   96  Boban Marjanovic 2 Badges Boban Marjanovic C |...   72   63   60\n",
            "96   97  Kenneth Lofton Jr. 3 Badges Kenneth Lofton Jr....   72   70   75\n",
            "97   98  Willie Cauley-Stein 3 Badges Willie Cauley-Ste...   72   49   70\n",
            "98   99  Tony Bradley 7 Badges Tony Bradley C | 6'10\" |...   72   26   60\n",
            "99  100  Chris Silva 0 Badges Chris Silva C / PF | 6'8\"...   72   72   65\n",
            "\n",
            "[100 rows x 5 columns]\n"
          ]
        }
      ]
    },
    {
      "cell_type": "code",
      "source": [
        "# prompt: print the column names for all five dataframes above\n",
        "\n",
        "print(twokC_df.columns.tolist())\n",
        "print(twokPF_df.columns.tolist())\n",
        "print(twokSG_df.columns.tolist())\n",
        "print(twokSF_df.columns.tolist())\n",
        "print(twokPG_df.columns.tolist())\n"
      ],
      "metadata": {
        "colab": {
          "base_uri": "https://localhost:8080/"
        },
        "id": "Sntg597gvvgT",
        "outputId": "6e92433d-4f6f-4c7c-944c-4f6caf3a6445"
      },
      "execution_count": 115,
      "outputs": [
        {
          "output_type": "stream",
          "name": "stdout",
          "text": [
            "['#', 'Player', 'OVR', '3PT', 'DNK']\n",
            "['#', 'Player', 'OVR', '3PT', 'DNK']\n",
            "['#', 'Player', 'OVR', '3PT', 'DNK']\n",
            "['#', 'Player', 'OVR', '3PT', 'DNK']\n",
            "['#', 'Player', 'OVR', '3PT', 'DNK', 'Unnamed: 5', 'Unnamed: 6']\n"
          ]
        }
      ]
    },
    {
      "cell_type": "code",
      "source": [
        "twokPG_df = twokPG_df.drop(columns = ['Unnamed: 5', 'Unnamed: 6'])"
      ],
      "metadata": {
        "id": "oIkKKp4uxKGx"
      },
      "execution_count": 116,
      "outputs": []
    },
    {
      "cell_type": "code",
      "source": [
        "twokC_df['Player'] = twokC_df['Player'].apply(lambda x: ' '.join(x.split(' ', 2)[:2]))\n",
        "twokPF_df['Player'] = twokPF_df['Player'].apply(lambda x: ' '.join(x.split(' ', 2)[:2]))\n",
        "twokSG_df['Player'] = twokSG_df['Player'].apply(lambda x: ' '.join(x.split(' ', 2)[:2]))\n",
        "twokSF_df['Player'] = twokSF_df['Player'].apply(lambda x: ' '.join(x.split(' ', 2)[:2]))\n",
        "twokPG_df['Player'] = twokPG_df['Player'].apply(lambda x: ' '.join(x.split(' ', 2)[:2]))\n",
        "print(twokC_df)"
      ],
      "metadata": {
        "colab": {
          "base_uri": "https://localhost:8080/"
        },
        "id": "cXb1a262xsOH",
        "outputId": "f1ae2b60-b169-480f-9d84-55c39559e2ff"
      },
      "execution_count": 117,
      "outputs": [
        {
          "output_type": "stream",
          "name": "stdout",
          "text": [
            "      #               Player  OVR  3PT  DNK\n",
            "0     1          Joel Embiid   98   80   80\n",
            "1     2         Nikola Jokic   98   80   75\n",
            "2     3        Anthony Davis   94   70   88\n",
            "3     4    Victor Wembanyama   88   74   75\n",
            "4     5          Bam Adebayo   88   65   80\n",
            "..  ...                  ...  ...  ...  ...\n",
            "95   96     Boban Marjanovic   72   63   60\n",
            "96   97       Kenneth Lofton   72   70   75\n",
            "97   98  Willie Cauley-Stein   72   49   70\n",
            "98   99         Tony Bradley   72   26   60\n",
            "99  100          Chris Silva   72   72   65\n",
            "\n",
            "[100 rows x 5 columns]\n"
          ]
        }
      ]
    },
    {
      "cell_type": "code",
      "source": [
        "# prompt: join the two twokC_df with the CenterDF, the twokC_df should primary key should be the player names from the twokC_df\n",
        "\n",
        "merged_Cdf = pd.merge(twokC_df, CenterDF, on='Player', how='inner')\n",
        "merged_Cdf = merged_Cdf.drop(columns=['Player', 'OVR', '3PT', 'DNK', '#_y', 'Team'])\n",
        "\n",
        "features = merged_Cdf.drop(columns=['#_x'])\n",
        "target = merged_Cdf['#_x']\n",
        "# Normalize the features\n",
        "scaler = MinMaxScaler()\n",
        "features_normalized = scaler.fit_transform(features)\n",
        "features_df = pd.DataFrame(features_normalized, columns=features.columns)\n",
        "\n",
        "rank_correlations = features.corrwith(target, method='pearson')\n",
        "#threshold = 0.3  # Set your desired threshold\n",
        "#positive_rank_correlations = rank_correlations[rank_correlations > threshold]\n",
        "top_N = 23  # Set the number of top features\n",
        "top_N_correlations_C = rank_correlations.nsmallest(top_N)\n",
        "print(top_N_correlations_C)"
      ],
      "metadata": {
        "colab": {
          "base_uri": "https://localhost:8080/"
        },
        "id": "_ZiXJ6PszL2v",
        "outputId": "7df9fc34-6113-48d8-c87f-24b199829bc7"
      },
      "execution_count": 149,
      "outputs": [
        {
          "output_type": "stream",
          "name": "stdout",
          "text": [
            "MPG   -0.913178\n",
            "DRB   -0.897894\n",
            "RPG   -0.873599\n",
            "FGM   -0.862442\n",
            "PPG   -0.830803\n",
            "FGA   -0.820367\n",
            "TOV   -0.712614\n",
            "FTA   -0.692660\n",
            "FTM   -0.657585\n",
            "SPG   -0.657170\n",
            "PF    -0.643554\n",
            "ORB   -0.611623\n",
            "APG   -0.600676\n",
            "BPG   -0.547676\n",
            "GP    -0.480833\n",
            "3PA   -0.356631\n",
            "3PM   -0.334751\n",
            "FT%   -0.321952\n",
            "3P%    0.010239\n",
            "FG%    0.048578\n",
            "dtype: float64\n"
          ]
        }
      ]
    },
    {
      "cell_type": "code",
      "source": [
        "print(features_df)"
      ],
      "metadata": {
        "colab": {
          "base_uri": "https://localhost:8080/"
        },
        "id": "AIxyElrQDOqx",
        "outputId": "50ee51d2-1760-46c6-8a93-b4a72ecd53aa"
      },
      "execution_count": 156,
      "outputs": [
        {
          "output_type": "stream",
          "name": "stdout",
          "text": [
            "        GP       MPG       PPG       FGM       FGA      FG%       3PM  \\\n",
            "0   0.4375  1.000000  1.000000  1.000000  1.000000  0.74375  0.812500   \n",
            "1   0.5625  0.833333  0.789809  0.747573  0.788177  0.58750  1.000000   \n",
            "2   0.1875  0.775194  0.601911  0.631068  0.610837  0.78750  0.625000   \n",
            "3   0.6875  0.906977  0.694268  0.582524  0.679803  0.35625  0.583333   \n",
            "4   0.7500  0.926357  0.764331  0.805825  0.817734  0.70000  0.541667   \n",
            "5   0.6250  0.961240  0.767516  0.689320  0.793103  0.39375  0.687500   \n",
            "6   0.1250  0.771318  0.563694  0.631068  0.645320  0.62500  0.500000   \n",
            "7   0.5000  0.875969  0.452229  0.359223  0.384236  0.50000  0.562500   \n",
            "8   0.0625  0.779070  0.512739  0.543689  0.551724  0.63750  0.708333   \n",
            "9   0.2500  0.872093  0.611465  0.679612  0.743842  0.48750  0.354167   \n",
            "10  0.6250  0.961240  0.423567  0.398058  0.487685  0.24375  0.583333   \n",
            "11  0.1250  0.651163  0.398089  0.407767  0.448276  0.43750  0.416667   \n",
            "12  0.8125  0.422481  0.257962  0.310680  0.305419  0.60625  0.125000   \n",
            "13  0.8750  0.430233  0.280255  0.262136  0.285714  0.38125  0.208333   \n",
            "14  0.6250  0.670543  0.238854  0.213592  0.221675  0.47500  0.479167   \n",
            "15  0.8750  0.651163  0.289809  0.368932  0.334975  0.77500  0.291667   \n",
            "16  0.8750  0.724806  0.334395  0.330097  0.364532  0.45000  0.291667   \n",
            "17  0.6875  0.728682  0.299363  0.262136  0.334975  0.13125  0.375000   \n",
            "18  0.3125  0.213178  0.156051  0.213592  0.152709  1.00000  0.000000   \n",
            "19  0.6250  0.546512  0.213376  0.242718  0.206897  0.80625  0.125000   \n",
            "20  0.2500  0.573643  0.305732  0.291262  0.403941  0.01875  0.229167   \n",
            "21  0.1250  0.391473  0.181529  0.223301  0.201970  0.70625  0.125000   \n",
            "22  1.0000  0.430233  0.245223  0.281553  0.290640  0.54375  0.250000   \n",
            "23  0.0000  0.624031  0.159236  0.135922  0.142857  0.35000  0.333333   \n",
            "24  0.5000  0.232558  0.066879  0.077670  0.049261  0.64375  0.104167   \n",
            "25  0.6875  0.248062  0.057325  0.038835  0.004926  0.77500  0.083333   \n",
            "26  0.6250  0.298450  0.098726  0.077670  0.073892  0.38750  0.125000   \n",
            "27  0.6875  0.290698  0.098726  0.077670  0.073892  0.38125  0.145833   \n",
            "28  0.3125  0.468992  0.117834  0.135922  0.152709  0.26875  0.083333   \n",
            "29  0.9375  0.341085  0.146497  0.135922  0.147783  0.35000  0.333333   \n",
            "30  0.1250  0.011628  0.085987  0.077670  0.064039  0.43750  0.229167   \n",
            "31  0.6875  0.135659  0.105096  0.087379  0.068966  0.52500  0.229167   \n",
            "32  0.6250  0.116279  0.095541  0.067961  0.054187  0.53125  0.208333   \n",
            "33  0.8125  0.065891  0.060510  0.058252  0.083744  0.00000  0.208333   \n",
            "34  0.2500  0.042636  0.015924  0.000000  0.000000  0.09375  0.083333   \n",
            "35  0.5000  0.000000  0.031847  0.000000  0.000000  0.22500  0.125000   \n",
            "36  0.0625  0.038760  0.047771  0.029126  0.029557  0.18750  0.062500   \n",
            "37  0.6875  0.213178  0.108280  0.097087  0.083744  0.48125  0.208333   \n",
            "38  0.1875  0.081395  0.057325  0.048544  0.059113  0.11875  0.104167   \n",
            "39  0.3750  0.205426  0.000000  0.009709  0.004926  0.30000  0.000000   \n",
            "\n",
            "         3PA       3P%       FTM       FTA       FT%       ORB       DRB  \\\n",
            "0   0.895652  0.643275  1.000000  1.000000  0.533333  0.500000  1.000000   \n",
            "1   1.000000  0.757310  0.666667  0.565217  1.000000  0.285714  0.432432   \n",
            "2   0.669565  0.692982  0.416667  0.391304  0.775758  0.357143  0.364865   \n",
            "3   0.721739  0.546784  0.972222  0.836957  0.975758  0.285714  0.405405   \n",
            "4   0.547826  0.739766  0.694444  0.663043  0.709091  0.357143  0.364865   \n",
            "5   0.765217  0.652047  0.930556  0.858696  0.781818  0.214286  0.229730   \n",
            "6   0.504348  0.742690  0.361111  0.336957  0.754545  0.428571  0.364865   \n",
            "7   0.556522  0.783626  0.583333  0.521739  0.827273  0.214286  0.554054   \n",
            "8   0.678261  0.807018  0.250000  0.250000  0.572727  0.357143  0.418919   \n",
            "9   0.443478  0.529240  0.527778  0.478261  0.784848  0.214286  0.405405   \n",
            "10  0.652174  0.631579  0.347222  0.315217  0.784848  0.214286  0.378378   \n",
            "11  0.426087  0.742690  0.319444  0.315217  0.663636  0.428571  0.337838   \n",
            "12  0.182609  0.368421  0.194444  0.239130  0.184848  1.000000  0.459459   \n",
            "13  0.269565  0.500000  0.375000  0.347826  0.727273  0.571429  0.337838   \n",
            "14  0.443478  0.847953  0.138889  0.130435  0.954545  0.142857  0.256757   \n",
            "15  0.304348  0.736842  0.055556  0.054348  0.478788  0.142857  0.256757   \n",
            "16  0.356522  0.561404  0.333333  0.304348  0.763636  0.214286  0.229730   \n",
            "17  0.486957  0.473684  0.347222  0.347826  0.548485  0.285714  0.297297   \n",
            "18  0.026087  0.000000  0.111111  0.108696  0.503030  0.285714  0.202703   \n",
            "19  0.182609  0.377193  0.194444  0.173913  0.827273  0.428571  0.243243   \n",
            "20  0.330435  0.459064  0.361111  0.347826  0.636364  0.571429  0.202703   \n",
            "21  0.182609  0.502924  0.083333  0.086957  0.606061  0.357143  0.081081   \n",
            "22  0.286957  0.628655  0.125000  0.130435  0.533333  0.214286  0.148649   \n",
            "23  0.365217  0.663743  0.111111  0.108696  0.706061  0.428571  0.297297   \n",
            "24  0.113043  0.766082  0.027778  0.032609  0.151515  0.428571  0.216216   \n",
            "25  0.095652  0.652047  0.097222  0.130435  0.169697  0.285714  0.148649   \n",
            "26  0.182609  0.476608  0.138889  0.130435  0.636364  0.357143  0.243243   \n",
            "27  0.182609  0.502924  0.138889  0.130435  0.636364  0.357143  0.243243   \n",
            "28  0.139130  0.406433  0.097222  0.119565  0.181818  0.142857  0.270270   \n",
            "29  0.373913  0.622807  0.069444  0.065217  0.639394  0.571429  0.229730   \n",
            "30  0.226087  0.760234  0.041667  0.043478  0.606061  0.071429  0.013514   \n",
            "31  0.234783  0.707602  0.097222  0.097826  0.751515  0.071429  0.081081   \n",
            "32  0.226087  0.698830  0.097222  0.086957  0.730303  0.000000  0.081081   \n",
            "33  0.278261  0.517544  0.000000  0.000000  0.000000  0.000000  0.000000   \n",
            "34  0.139130  0.298246  0.041667  0.054348  0.554545  0.000000  0.040541   \n",
            "35  0.165217  0.543860  0.069444  0.065217  0.569697  0.142857  0.094595   \n",
            "36  0.104348  0.309942  0.111111  0.119565  0.660606  0.071429  0.081081   \n",
            "37  0.234783  0.687135  0.083333  0.076087  0.966667  0.142857  0.135135   \n",
            "38  0.156522  0.380117  0.069444  0.065217  0.793939  0.642857  0.175676   \n",
            "39  0.000000  1.000000  0.000000  0.000000  0.454545  0.142857  0.121622   \n",
            "\n",
            "         RPG       APG       SPG  BPG    TOV        PF  \n",
            "0   1.000000  0.792453  1.000000  0.6  0.875  0.500000  \n",
            "1   0.444444  0.349057  0.461538  0.4  0.650  0.454545  \n",
            "2   0.395062  1.000000  0.692308  0.7  0.500  0.090909  \n",
            "3   0.432099  0.537736  0.692308  0.2  0.525  0.409091  \n",
            "4   0.395062  0.509434  0.538462  0.2  0.475  0.545455  \n",
            "5   0.246914  0.924528  0.923077  0.2  1.000  0.545455  \n",
            "6   0.407407  0.518868  0.461538  0.7  0.400  0.500000  \n",
            "7   0.543210  0.698113  0.769231  0.9  0.550  0.590909  \n",
            "8   0.444444  0.330189  0.692308  0.8  0.325  0.636364  \n",
            "9   0.407407  0.594340  0.615385  0.3  0.825  0.909091  \n",
            "10  0.370370  0.669811  0.692308  1.0  0.300  0.636364  \n",
            "11  0.382716  0.415094  0.384615  0.2  0.275  0.318182  \n",
            "12  0.592593  0.339623  0.692308  0.4  0.450  0.454545  \n",
            "13  0.395062  0.188679  0.461538  0.4  0.350  0.772727  \n",
            "14  0.259259  0.509434  0.615385  0.2  0.175  0.409091  \n",
            "15  0.259259  0.500000  0.692308  0.3  0.125  0.000000  \n",
            "16  0.246914  0.471698  0.538462  0.2  0.300  0.590909  \n",
            "17  0.320988  0.462264  0.461538  0.2  0.225  0.454545  \n",
            "18  0.234568  0.424528  0.615385  0.1  0.275  0.136364  \n",
            "19  0.296296  0.443396  0.615385  0.1  0.250  0.227273  \n",
            "20  0.283951  0.330189  0.307692  0.2  0.650  1.000000  \n",
            "21  0.135802  0.320755  0.461538  0.1  0.350  0.500000  \n",
            "22  0.172840  0.264151  0.307692  0.2  0.225  0.500000  \n",
            "23  0.345679  0.273585  0.692308  0.4  0.250  0.772727  \n",
            "24  0.271605  0.301887  0.615385  0.5  0.225  0.454545  \n",
            "25  0.185185  0.047170  0.230769  0.4  0.125  0.500000  \n",
            "26  0.296296  0.188679  0.230769  0.4  0.150  0.454545  \n",
            "27  0.283951  0.188679  0.230769  0.4  0.150  0.454545  \n",
            "28  0.259259  0.358491  0.538462  0.5  0.200  0.454545  \n",
            "29  0.308642  0.160377  0.153846  0.1  0.050  0.227273  \n",
            "30  0.024691  0.000000  0.230769  0.1  0.000  0.181818  \n",
            "31  0.086420  0.122642  0.230769  0.1  0.075  0.363636  \n",
            "32  0.074074  0.113208  0.230769  0.1  0.075  0.363636  \n",
            "33  0.000000  0.009434  0.230769  0.2  0.025  0.090909  \n",
            "34  0.037037  0.066038  0.000000  0.0  0.050  0.181818  \n",
            "35  0.111111  0.066038  0.153846  0.1  0.100  0.090909  \n",
            "36  0.074074  0.018868  0.153846  0.1  0.075  0.181818  \n",
            "37  0.148148  0.075472  0.307692  0.1  0.100  0.318182  \n",
            "38  0.271605  0.084906  0.307692  0.2  0.075  0.136364  \n",
            "39  0.135802  0.216981  0.153846  0.1  0.175  0.136364  \n"
          ]
        }
      ]
    },
    {
      "cell_type": "code",
      "source": [
        "# prompt: tweak the code above so that it correlates twokPF_df and PowerForwardDF\n",
        "\n",
        "merged_PFdf = pd.merge(twokPF_df, PowerForwardDF, on='Player', how='inner')\n",
        "merged_PFdf = merged_PFdf.drop(columns=['Player', 'OVR', '3PT', 'DNK', '#_y', 'Team'])\n",
        "\n",
        "features = merged_PFdf.drop(columns=['#_x'])\n",
        "target = merged_PFdf['#_x']\n",
        "# Normalize the features\n",
        "scaler = MinMaxScaler()\n",
        "features_normalized = scaler.fit_transform(features)\n",
        "features_df = pd.DataFrame(features_normalized, columns=features.columns)\n",
        "\n",
        "rank_correlations = features.corrwith(target, method='pearson')\n",
        "#threshold = 0.3  # Set your desired threshold\n",
        "#positive_rank_correlations = rank_correlations[rank_correlations > threshold]\n",
        "top_N = 23  # Set the number of top features\n",
        "top_N_correlations_PF = rank_correlations.nsmallest(top_N)\n",
        "print(top_N_correlations_PF)\n"
      ],
      "metadata": {
        "colab": {
          "base_uri": "https://localhost:8080/"
        },
        "id": "czMptizs7nG2",
        "outputId": "e117cb63-eefd-4186-81e0-1864b303a96f"
      },
      "execution_count": 150,
      "outputs": [
        {
          "output_type": "stream",
          "name": "stdout",
          "text": [
            "FGM   -0.880608\n",
            "MPG   -0.874855\n",
            "PPG   -0.872140\n",
            "FGA   -0.856958\n",
            "TOV   -0.804991\n",
            "FTM   -0.800538\n",
            "FTA   -0.776557\n",
            "APG   -0.748916\n",
            "FG%   -0.709752\n",
            "RPG   -0.705970\n",
            "DRB   -0.683017\n",
            "PF    -0.593583\n",
            "SPG   -0.564934\n",
            "ORB   -0.496339\n",
            "GP    -0.420148\n",
            "BPG   -0.405728\n",
            "3PA   -0.256632\n",
            "3PM   -0.231898\n",
            "FT%   -0.178418\n",
            "3P%   -0.049081\n",
            "dtype: float64\n"
          ]
        }
      ]
    },
    {
      "cell_type": "code",
      "source": [
        "# prompt: tweak the code above so that it correlates twokSG_df and ShootingGuardDF\n",
        "\n",
        "merged_SGdf = pd.merge(twokSG_df, ShootingGuardDF, on='Player', how='inner')\n",
        "merged_SGdf = merged_SGdf.drop(columns=['Player', 'OVR', '3PT', 'DNK', '#_y', 'Team'])\n",
        "\n",
        "features = merged_SGdf.drop(columns=['#_x'])\n",
        "target = merged_SGdf['#_x']\n",
        "# Normalize the features\n",
        "scaler = MinMaxScaler()\n",
        "features_normalized = scaler.fit_transform(features)\n",
        "features_df = pd.DataFrame(features_normalized, columns=features.columns)\n",
        "\n",
        "rank_correlations = features.corrwith(target, method='pearson')\n",
        "#threshold = 0.3  # Set your desired threshold\n",
        "#positive_rank_correlations = rank_correlations[rank_correlations > threshold]\n",
        "top_N = 23  # Set the number of top features\n",
        "top_N_correlations_SG = rank_correlations.nsmallest(top_N)\n",
        "print(top_N_correlations_SG)\n"
      ],
      "metadata": {
        "colab": {
          "base_uri": "https://localhost:8080/"
        },
        "id": "qCiw2O4B8RQH",
        "outputId": "691d3872-b950-436e-ff3b-b05d90a909ce"
      },
      "execution_count": 151,
      "outputs": [
        {
          "output_type": "stream",
          "name": "stdout",
          "text": [
            "PPG   -0.889287\n",
            "FGM   -0.875528\n",
            "FGA   -0.864955\n",
            "APG   -0.787698\n",
            "FTM   -0.784775\n",
            "FTA   -0.779293\n",
            "MPG   -0.775710\n",
            "TOV   -0.764127\n",
            "3PA   -0.758201\n",
            "DRB   -0.712366\n",
            "RPG   -0.712079\n",
            "3PM   -0.685848\n",
            "SPG   -0.559554\n",
            "ORB   -0.425797\n",
            "FG%   -0.409400\n",
            "PF    -0.367934\n",
            "BPG   -0.325789\n",
            "FT%   -0.300605\n",
            "GP    -0.112561\n",
            "3P%   -0.078712\n",
            "dtype: float64\n"
          ]
        }
      ]
    },
    {
      "cell_type": "code",
      "source": [
        "# prompt: tweak the code above so that it correlates twokSF_df and SmallForwardDF\n",
        "\n",
        "merged_SFdf = pd.merge(twokSF_df, SmallForwardDF, on='Player', how='inner')\n",
        "merged_SFdf = merged_SFdf.drop(columns=['Player', 'OVR', '3PT', 'DNK', '#_y', 'Team'])\n",
        "\n",
        "features = merged_SFdf.drop(columns=['#_x'])\n",
        "target = merged_SFdf['#_x']\n",
        "# Normalize the features\n",
        "scaler = MinMaxScaler()\n",
        "features_normalized = scaler.fit_transform(features)\n",
        "features_df = pd.DataFrame(features_normalized, columns=features.columns)\n",
        "\n",
        "rank_correlations = features.corrwith(target, method='pearson')\n",
        "#threshold = 0.3  # Set your desired threshold\n",
        "#positive_rank_correlations = rank_correlations[rank_correlations > threshold]\n",
        "top_N = 23  # Set the number of top features\n",
        "top_N_correlations_SF = rank_correlations.nsmallest(top_N)\n",
        "print(top_N_correlations_SF)\n"
      ],
      "metadata": {
        "colab": {
          "base_uri": "https://localhost:8080/"
        },
        "id": "X-B_f83g8mDG",
        "outputId": "eb95c951-511b-4da6-8719-a47b80996fc0"
      },
      "execution_count": 152,
      "outputs": [
        {
          "output_type": "stream",
          "name": "stdout",
          "text": [
            "FGM   -0.884041\n",
            "FGA   -0.879003\n",
            "PPG   -0.878281\n",
            "MPG   -0.870286\n",
            "TOV   -0.856269\n",
            "RPG   -0.741996\n",
            "APG   -0.729655\n",
            "FTM   -0.723060\n",
            "FTA   -0.719796\n",
            "DRB   -0.710230\n",
            "PF    -0.548747\n",
            "SPG   -0.518699\n",
            "ORB   -0.469617\n",
            "FG%   -0.372310\n",
            "3PA   -0.341241\n",
            "FT%   -0.329629\n",
            "3PM   -0.291282\n",
            "BPG   -0.278433\n",
            "GP     0.006407\n",
            "3P%    0.034640\n",
            "dtype: float64\n"
          ]
        }
      ]
    },
    {
      "cell_type": "code",
      "source": [
        "# prompt: tweak the code above so that it correlates twokPG_df and PointGuardDF\n",
        "\n",
        "merged_PGdf = pd.merge(twokPG_df, PointGuardDF, on='Player', how='inner')\n",
        "merged_PGdf = merged_PGdf.drop(columns=['Player', 'OVR', '3PT', 'DNK', '#_y', 'Team'])\n",
        "\n",
        "features = merged_PGdf.drop(columns=['#_x'])\n",
        "target = merged_PGdf['#_x']\n",
        "# Normalize the features\n",
        "scaler = MinMaxScaler()\n",
        "features_normalized = scaler.fit_transform(features)\n",
        "features_df = pd.DataFrame(features_normalized, columns=features.columns)\n",
        "\n",
        "rank_correlations = features.corrwith(target, method='pearson')\n",
        "#threshold = 0.3  # Set your desired threshold\n",
        "#positive_rank_correlations = rank_correlations[rank_correlations > threshold]\n",
        "top_N = 23  # Set the number of top features\n",
        "top_N_correlations_PG = rank_correlations.nsmallest(top_N)\n",
        "print(top_N_correlations_PG)\n"
      ],
      "metadata": {
        "colab": {
          "base_uri": "https://localhost:8080/"
        },
        "id": "OGaxb9Yu82PX",
        "outputId": "a5998370-5a55-47be-fb85-b980a18cd578"
      },
      "execution_count": 153,
      "outputs": [
        {
          "output_type": "stream",
          "name": "stdout",
          "text": [
            "MPG   -0.908226\n",
            "FGM   -0.887656\n",
            "PPG   -0.884572\n",
            "FGA   -0.884141\n",
            "APG   -0.821296\n",
            "SPG   -0.793938\n",
            "3PA   -0.793662\n",
            "3PM   -0.782228\n",
            "FTA   -0.781092\n",
            "FTM   -0.778830\n",
            "TOV   -0.769541\n",
            "DRB   -0.746767\n",
            "RPG   -0.732244\n",
            "BPG   -0.541242\n",
            "PF    -0.458776\n",
            "FG%   -0.454682\n",
            "ORB   -0.320361\n",
            "FT%   -0.298991\n",
            "3P%   -0.184766\n",
            "GP    -0.047399\n",
            "dtype: float64\n"
          ]
        }
      ]
    }
  ]
}