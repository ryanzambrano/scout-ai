{
  "nbformat": 4,
  "nbformat_minor": 0,
  "metadata": {
    "colab": {
      "provenance": []
    },
    "kernelspec": {
      "name": "python3",
      "display_name": "Python 3"
    },
    "language_info": {
      "name": "python"
    }
  },
  "cells": [
    {
      "cell_type": "markdown",
      "source": [
        "# Scout AI"
      ],
      "metadata": {
        "id": "UgLKDfnlZAyL"
      }
    },
    {
      "cell_type": "markdown",
      "source": [
        "Where talent knows no borders, and scouting knows no limits"
      ],
      "metadata": {
        "id": "XSdOM2hfac80"
      }
    },
    {
      "cell_type": "code",
      "execution_count": 252,
      "metadata": {
        "id": "_Lu4FkBmOATT"
      },
      "outputs": [],
      "source": [
        "import pandas as pd\n",
        "import numpy as np\n",
        "import requests\n",
        "from bs4 import BeautifulSoup\n",
        "from sklearn.preprocessing import MinMaxScaler\n",
        "from sklearn.model_selection import train_test_split\n",
        "from sklearn.linear_model import LinearRegression\n",
        "from sklearn.metrics import mean_squared_error\n"
      ]
    },
    {
      "cell_type": "markdown",
      "source": [
        "These files are hosted on our project github repo, they are datasets that we scraped from basketball-realgm.com\n",
        "they contain 23 average player statistics across the 2023-2024 NBA season split by position (Center, Power forward, Point Guard, Small forward, Shooting Guard)\n",
        "basketball-realgm.com has been collecting and providing basketball data for more than 20 years now."
      ],
      "metadata": {
        "id": "fc6SmjQH7_RO"
      }
    },
    {
      "cell_type": "code",
      "source": [
        "centerURL = 'https://raw.githubusercontent.com/ryanzambrano/scout-ai/main/model/c.csv'\n",
        "pfURL = 'https://raw.githubusercontent.com/ryanzambrano/scout-ai/main/model/pf.csv'\n",
        "pgURL = 'https://raw.githubusercontent.com/ryanzambrano/scout-ai/main/model/pg.csv'\n",
        "sfURL = 'https://raw.githubusercontent.com/ryanzambrano/scout-ai/main/model/sf.csv'\n",
        "sgURL = 'https://raw.githubusercontent.com/ryanzambrano/scout-ai/main/model/sg.csv'\n"
      ],
      "metadata": {
        "id": "_0M51ZMFOIZX"
      },
      "execution_count": 253,
      "outputs": []
    },
    {
      "cell_type": "markdown",
      "source": [
        "These datasets where scraped from the NBA 2k position ratings page, we found that 2k rankings can have a direct impact on a players career and are constantly\n",
        "revised and scrutinized because there is so much at stake for a player who is unfairly ranked and as such would provide a very sound ordering of our target variable.\n"
      ],
      "metadata": {
        "id": "H66DwwNd9BlX"
      }
    },
    {
      "cell_type": "code",
      "source": [
        "twokC_URL = 'https://raw.githubusercontent.com/ryanzambrano/scout-ai/main/model/2kC.csv'\n",
        "twokPF_URL = 'https://raw.githubusercontent.com/ryanzambrano/scout-ai/main/model/2kPF.csv'\n",
        "twokSG_URL = 'https://raw.githubusercontent.com/ryanzambrano/scout-ai/main/model/2kSG.csv'\n",
        "twokSF_URL = 'https://raw.githubusercontent.com/ryanzambrano/scout-ai/main/model/2kSF.csv'\n",
        "twokPG_URL = 'https://raw.githubusercontent.com/ryanzambrano/scout-ai/main/model/2kPG.csv'"
      ],
      "metadata": {
        "id": "6WaoJpZu87iO"
      },
      "execution_count": 254,
      "outputs": []
    },
    {
      "cell_type": "markdown",
      "source": [
        "\n",
        "this dataset was also from basketball-realgm.com bus is a compilation of international players across the 29 largest basketball leagues across South America, Europe, Asia"
      ],
      "metadata": {
        "id": "2LdM8FAP9Sxo"
      }
    },
    {
      "cell_type": "code",
      "source": [
        "internationalURL = 'https://raw.githubusercontent.com/ryanzambrano/scout-ai/main/model/international_players_copy.csv'"
      ],
      "metadata": {
        "id": "Ql-kqVqB9LZO"
      },
      "execution_count": 255,
      "outputs": []
    },
    {
      "cell_type": "markdown",
      "source": [
        "dataframes make working with datasets much easier, we will be using pandas to load are csv files into the colab."
      ],
      "metadata": {
        "id": "4QEegsjs9ayp"
      }
    },
    {
      "cell_type": "code",
      "source": [
        "\n",
        "CenterDF = pd.read_csv(centerURL)\n",
        "PowerForwardDF = pd.read_csv(pfURL)\n",
        "ShootingGuardDF = pd.read_csv(sgURL)\n",
        "PointGuardDF = pd.read_csv(pgURL)\n",
        "SmallForwardDF = pd.read_csv(sfURL)\n",
        "#Printing one of the dataframes shows that this dataframe is encoding our csv correctly and we can proceed to digging into the data\n",
        "print(CenterDF.head())"
      ],
      "metadata": {
        "id": "NnG9WHL5VoPR",
        "colab": {
          "base_uri": "https://localhost:8080/"
        },
        "outputId": "2e34c465-4497-4878-e737-475500349ab8"
      },
      "execution_count": 256,
      "outputs": [
        {
          "output_type": "stream",
          "name": "stdout",
          "text": [
            "   #             Player Team  GP   MPG   PPG   FGM   FGA    FG%  3PM  ...  \\\n",
            "0  1        Joel Embiid  PHI  34  34.0  35.3  11.8  22.2  0.533  1.2  ...   \n",
            "1  2       Nikola Jokic  DEN  50  33.9  26.3  10.3  17.6  0.584  1.1  ...   \n",
            "2  3      Anthony Davis  LAL  49  36.0  24.8   9.5  17.2  0.553  0.3  ...   \n",
            "3  4     Alperen Sengun  HOU  51  32.4  21.3   8.5  15.7  0.541  0.5  ...   \n",
            "4  5  Victor Wembanyama  SAS  46  28.4  20.3   7.5  16.1  0.464  1.5  ...   \n",
            "\n",
            "    FTA    FT%  ORB  DRB   RPG  APG  SPG  BPG  TOV   PF  \n",
            "0  11.9  0.883  2.6  8.7  11.3  5.7  1.1  1.8  3.7  2.9  \n",
            "1   5.8  0.819  3.0  9.2  12.2  9.0  1.2  1.0  3.0  2.5  \n",
            "2   6.7  0.806  3.1  9.1  12.2  3.9  1.2  2.4  2.1  2.4  \n",
            "3   5.3  0.717  2.8  6.5   9.3  5.0  1.1  0.7  2.6  3.3  \n",
            "4   4.7  0.807  2.2  7.9  10.1  3.1  1.2  3.1  3.4  2.2  \n",
            "\n",
            "[5 rows x 23 columns]\n"
          ]
        }
      ]
    },
    {
      "cell_type": "markdown",
      "source": [
        "same as above except for the 2k dataset"
      ],
      "metadata": {
        "id": "tqxYwZk29m7d"
      }
    },
    {
      "cell_type": "code",
      "source": [
        "twokC_df = pd.read_csv(twokC_URL)\n",
        "twokPF_df = pd.read_csv(twokPF_URL)\n",
        "twokSG_df = pd.read_csv(twokSG_URL)\n",
        "twokSF_df = pd.read_csv(twokSF_URL)\n",
        "twokPG_df = pd.read_csv(twokPG_URL)"
      ],
      "metadata": {
        "id": "Ne1UNoD_vKmW"
      },
      "execution_count": 257,
      "outputs": []
    },
    {
      "cell_type": "code",
      "source": [
        "twokPG_df = twokPG_df.drop(columns = ['Unnamed: 5', 'Unnamed: 6'])"
      ],
      "metadata": {
        "id": "oIkKKp4uxKGx"
      },
      "execution_count": 258,
      "outputs": []
    },
    {
      "cell_type": "markdown",
      "source": [
        "Parse the player column of the 2K dataset to get rid of any unnecesary information about the player and only keep their name"
      ],
      "metadata": {
        "id": "AmIB2pAh9wNk"
      }
    },
    {
      "cell_type": "code",
      "source": [
        "twokC_df['Player'] = twokC_df['Player'].apply(lambda x: ' '.join(x.split(' ', 2)[:2]))\n",
        "twokPF_df['Player'] = twokPF_df['Player'].apply(lambda x: ' '.join(x.split(' ', 2)[:2]))\n",
        "twokSG_df['Player'] = twokSG_df['Player'].apply(lambda x: ' '.join(x.split(' ', 2)[:2]))\n",
        "twokSF_df['Player'] = twokSF_df['Player'].apply(lambda x: ' '.join(x.split(' ', 2)[:2]))\n",
        "twokPG_df['Player'] = twokPG_df['Player'].apply(lambda x: ' '.join(x.split(' ', 2)[:2]))"
      ],
      "metadata": {
        "id": "cXb1a262xsOH"
      },
      "execution_count": 259,
      "outputs": []
    },
    {
      "cell_type": "markdown",
      "source": [
        "starting with the center position, lets merge our ranking dataset with our statistics dataset, drop columns that arent encoding anything useful\n",
        "as well as any statistics from our 2k dataset and see if we can find any correlation."
      ],
      "metadata": {
        "id": "b2wWhp1W92Sx"
      }
    },
    {
      "cell_type": "code",
      "source": [
        "merged_Cdf = pd.merge(twokC_df, CenterDF, on='Player', how='inner')\n",
        "merged_Cdf = merged_Cdf.drop(columns=['Player', 'OVR', '3PT', 'DNK', '#_y', 'Team'])\n",
        "\n",
        "#define our features by dropping the target variable and saving to another dataframe\n",
        "features = merged_Cdf.drop(columns=['#_x'])\n",
        "#similiarly our target is just our first column\n",
        "target = merged_Cdf['#_x']\n",
        "\n"
      ],
      "metadata": {
        "id": "_ZiXJ6PszL2v"
      },
      "execution_count": 260,
      "outputs": []
    },
    {
      "cell_type": "markdown",
      "source": [
        "Normalize the features so that units of features are not skewing any correlation we find\n",
        "the min max scaler will use the minimum and maximum values in a column to scale a value respective to all the other values in the dataset\n",
        "this provides a more even comparison. MinMax scalers can be sensitive to outliers but in a game like basketball where there are people actively\n",
        "trying to stop a player from scoring, a player with exceptional stats deserves to be celebrated."
      ],
      "metadata": {
        "id": "upN4yaoR-EK6"
      }
    },
    {
      "cell_type": "code",
      "source": [
        "scaler = MinMaxScaler()\n",
        "features_normalized = scaler.fit_transform(features)\n",
        "features_df = pd.DataFrame(features_normalized, columns=features.columns)"
      ],
      "metadata": {
        "id": "z3P8NfTJ-Akf"
      },
      "execution_count": 261,
      "outputs": []
    },
    {
      "cell_type": "markdown",
      "source": [
        "correlate all of our features with rank for this position using pandas.corrwit()"
      ],
      "metadata": {
        "id": "_K_NfiVu-S-t"
      }
    },
    {
      "cell_type": "code",
      "source": [
        "rank_correlations = features_df.corrwith(target, method='pearson')\n",
        "top_N = 5 # Set the number of top features\n"
      ],
      "metadata": {
        "id": "4HcTLUSJ-MT5"
      },
      "execution_count": 262,
      "outputs": []
    },
    {
      "cell_type": "markdown",
      "source": [
        "this might not be immediately clear but we are trying to find an inverse relationship since we want to minimize rank since a better rank is a smaller number therefore a strong negative correlation is what we want and can be found using nsmallest()"
      ],
      "metadata": {
        "id": "Xtafvug5-av4"
      }
    },
    {
      "cell_type": "code",
      "source": [
        "top_N_correlations_C = rank_correlations.nsmallest(top_N)\n",
        "\n",
        "print(top_N_correlations_C)"
      ],
      "metadata": {
        "colab": {
          "base_uri": "https://localhost:8080/"
        },
        "id": "MJ7i_B8p-YMI",
        "outputId": "b935ca17-dcaf-405c-aa3f-99f0c64872e1"
      },
      "execution_count": 263,
      "outputs": [
        {
          "output_type": "stream",
          "name": "stdout",
          "text": [
            "MPG   -0.913178\n",
            "DRB   -0.897894\n",
            "RPG   -0.873599\n",
            "FGM   -0.862442\n",
            "PPG   -0.830803\n",
            "dtype: float64\n"
          ]
        }
      ]
    },
    {
      "cell_type": "markdown",
      "source": [
        "Since the correlation was very strong, lets test for significance\n",
        "\n",
        "Calculate Pearson correlation coefficient and p-value for each feature"
      ],
      "metadata": {
        "id": "-LVDw5lB_BU1"
      }
    },
    {
      "cell_type": "code",
      "source": [
        "from scipy.stats import pearsonr\n",
        "for feature in top_N_correlations_C.index:\n",
        "    corr_coef, p_value = pearsonr(features_df[feature], target)\n",
        "    print(f\"Feature: {feature}\")\n",
        "    print(f\"Pearson correlation coefficient: {corr_coef}\")\n",
        "    print(f\"P-value: {p_value}\")\n",
        "    print(\"\")\n",
        "\n",
        "    if p_value < 0.05:\n",
        "        print(\"Correlation coefficient is statistically significant.\")\n",
        "    else:\n",
        "        print(\"Correlation coefficient is not statistically significant.\")\n"
      ],
      "metadata": {
        "colab": {
          "base_uri": "https://localhost:8080/"
        },
        "id": "TgTpeMpG1KUn",
        "outputId": "a44dcf8b-e665-4a12-c510-1d042740eebd"
      },
      "execution_count": 264,
      "outputs": [
        {
          "output_type": "stream",
          "name": "stdout",
          "text": [
            "Feature: MPG\n",
            "Pearson correlation coefficient: -0.913177983167163\n",
            "P-value: 8.67949954005584e-17\n",
            "\n",
            "Correlation coefficient is statistically significant.\n",
            "Feature: DRB\n",
            "Pearson correlation coefficient: -0.8978943418579517\n",
            "P-value: 1.7809963835041507e-15\n",
            "\n",
            "Correlation coefficient is statistically significant.\n",
            "Feature: RPG\n",
            "Pearson correlation coefficient: -0.8735987617909234\n",
            "P-value: 9.129065716640291e-14\n",
            "\n",
            "Correlation coefficient is statistically significant.\n",
            "Feature: FGM\n",
            "Pearson correlation coefficient: -0.8624419657900717\n",
            "P-value: 4.279621899787748e-13\n",
            "\n",
            "Correlation coefficient is statistically significant.\n",
            "Feature: PPG\n",
            "Pearson correlation coefficient: -0.830802528717401\n",
            "P-value: 1.7975438269515243e-11\n",
            "\n",
            "Correlation coefficient is statistically significant.\n"
          ]
        }
      ]
    },
    {
      "cell_type": "markdown",
      "source": [
        "Just for exploratory purposes lets see if we can fit a model onto this dataset to predict rank and try to find coefficients from it."
      ],
      "metadata": {
        "id": "WfAkGY4m_Y-y"
      }
    },
    {
      "cell_type": "code",
      "source": [
        "\n",
        "from sklearn.model_selection import train_test_split\n",
        "from sklearn.linear_model import LinearRegression, Ridge, Lasso, ElasticNet\n",
        "from sklearn.ensemble import RandomForestRegressor\n",
        "from sklearn.metrics import mean_squared_error\n",
        "\n",
        "\n",
        "X_train, X_test, y_train, y_test = train_test_split(features_df, target, test_size=0.2, random_state=42)\n",
        "\n",
        "models = {\n",
        "    \"Linear Regression\": LinearRegression(),\n",
        "    \"Ridge Regression\": Ridge(),\n",
        "    \"Lasso Regression\": Lasso(),\n",
        "    \"ElasticNet Regression\": ElasticNet(),\n",
        "    \"Support Vector Regression\": SVR(kernel='linear'),\n",
        "}\n",
        "\n",
        "\n",
        "coefficients = {}\n",
        "for name, model in models.items():\n",
        "    model.fit(X_train, y_train)\n",
        "    y_pred = model.predict(X_test)\n",
        "    mse = mean_squared_error(y_test, y_pred)\n",
        "    coefficients[name] = model.coef_\n",
        "    print(f\"{name} MSE: {mse}\")\n",
        "\n",
        "\n",
        "for name, coef in coefficients.items():\n",
        "    print(f\"\\n{name} Coefficients:\")\n",
        "    for feature, weight in zip(features_df.columns, coef):\n",
        "        print(f\"{feature}: {weight}\")\n"
      ],
      "metadata": {
        "colab": {
          "base_uri": "https://localhost:8080/"
        },
        "id": "TaWLnhWqMw5e",
        "outputId": "54bbed2c-dfb0-4484-c39a-f3db2321b3f4"
      },
      "execution_count": 265,
      "outputs": [
        {
          "output_type": "stream",
          "name": "stdout",
          "text": [
            "Linear Regression MSE: 229.78471886875818\n",
            "Ridge Regression MSE: 143.07622108783332\n",
            "Lasso Regression MSE: 186.3819516285063\n",
            "ElasticNet Regression MSE: 388.681735328133\n",
            "Support Vector Regression MSE: 283.2395219493556\n",
            "\n",
            "Linear Regression Coefficients:\n",
            "GP: 0.7782479733744242\n",
            "MPG: 30.970970941455096\n",
            "PPG: -1313.7014986359743\n",
            "FGM: 818.9702145451337\n",
            "FGA: 16.432410669581557\n",
            "FG%: -31.099773332342394\n",
            "3PM: 91.44483207592538\n",
            "3PA: -56.53737209102804\n",
            "3P%: 9.687738568305493\n",
            "FTM: 549.0565684363343\n",
            "FTA: -125.39383019988377\n",
            "FT%: -19.664747326530517\n",
            "ORB: -37.459588711943965\n",
            "DRB: -96.83996164182967\n",
            "RPG: 58.59959187823102\n",
            "APG: 5.831091152047785\n",
            "SPG: -11.199313500596585\n",
            "BPG: -5.532199681429039\n",
            "TOV: 26.250688970527886\n",
            "PF: -16.02000160259216\n",
            "\n",
            "Ridge Regression Coefficients:\n",
            "GP: -7.3826363133482555\n",
            "MPG: -8.412274194469108\n",
            "PPG: -5.532179044437101\n",
            "FGM: -7.513967226712218\n",
            "FGA: -6.657219324412943\n",
            "FG%: -4.342576319577295\n",
            "3PM: -4.493708326675359\n",
            "3PA: -4.872592603497939\n",
            "3P%: 5.575556406596916\n",
            "FTM: -0.7013921611186151\n",
            "FTA: -1.604970248292136\n",
            "FT%: -1.6253521195675533\n",
            "ORB: -5.056473872696514\n",
            "DRB: -9.50332503423164\n",
            "RPG: -9.562996488263689\n",
            "APG: 0.7869308760747068\n",
            "SPG: -2.8410784492285894\n",
            "BPG: -9.092375002406301\n",
            "TOV: -2.0180333645378266\n",
            "PF: -8.713908403594635\n",
            "\n",
            "Lasso Regression Coefficients:\n",
            "GP: -0.0\n",
            "MPG: -39.713662028222736\n",
            "PPG: -0.0\n",
            "FGM: -0.0\n",
            "FGA: -8.190231576026243\n",
            "FG%: 0.0\n",
            "3PM: -0.0\n",
            "3PA: -0.0\n",
            "3P%: 0.0\n",
            "FTM: -0.0\n",
            "FTA: -0.0\n",
            "FT%: -0.0\n",
            "ORB: -0.0\n",
            "DRB: -10.788585437148608\n",
            "RPG: -0.0\n",
            "APG: -0.0\n",
            "SPG: -0.0\n",
            "BPG: -0.29041418637015576\n",
            "TOV: -0.0\n",
            "PF: -0.0\n",
            "\n",
            "ElasticNet Regression Coefficients:\n",
            "GP: -2.1271874129427766\n",
            "MPG: -4.453805400562179\n",
            "PPG: -2.8444992421590367\n",
            "FGM: -3.42035562500936\n",
            "FGA: -3.223227161776519\n",
            "FG%: 0.0\n",
            "3PM: -1.5149366765067407\n",
            "3PA: -1.7449557216198408\n",
            "3P%: 0.0\n",
            "FTM: -1.4303422146283284\n",
            "FTA: -1.7145074835029752\n",
            "FT%: -0.0\n",
            "ORB: -1.8735194023473332\n",
            "DRB: -4.015339745891058\n",
            "RPG: -4.15008572229408\n",
            "APG: -1.4821739565127094\n",
            "SPG: -2.82000872335124\n",
            "BPG: -2.935078969421694\n",
            "TOV: -2.7170438864111293\n",
            "PF: -3.241154025265368\n",
            "\n",
            "Support Vector Regression Coefficients:\n",
            "GP: [-3.73529191 -6.26089096 -3.90408979 -4.81105866 -4.55555304  0.46542477\n",
            " -2.42903505 -2.85444223  0.24933948 -1.79942174 -2.31655217  0.29283583\n",
            " -3.083491   -5.89600026 -5.92089125 -2.85349129 -3.56362458 -4.99233352\n",
            " -3.99988904 -4.35331197]\n"
          ]
        }
      ]
    },
    {
      "cell_type": "markdown",
      "source": [
        "I noticed that the mean squared error is very high for all the models indicating that the models are a bad fit for the data, since the linear correlation worked well with finding important features I will repeat finding correlations for all positions."
      ],
      "metadata": {
        "id": "DfkLGagJznOd"
      }
    },
    {
      "cell_type": "markdown",
      "source": [
        "Find correlation coefficients for point forward position"
      ],
      "metadata": {
        "id": "Pbx9Bg5Q_idj"
      }
    },
    {
      "cell_type": "code",
      "source": [
        "merged_PFdf = pd.merge(twokPF_df, PowerForwardDF, on='Player', how='inner')\n",
        "merged_PFdf = merged_PFdf.drop(columns=['Player', 'OVR', '3PT', 'DNK', '#_y', 'Team'])\n",
        "\n",
        "features = merged_PFdf.drop(columns=['#_x'])\n",
        "target = merged_PFdf['#_x']\n",
        "\n",
        "scaler = MinMaxScaler()\n",
        "features_normalized = scaler.fit_transform(features)\n",
        "features_df = pd.DataFrame(features_normalized, columns=features.columns)\n",
        "\n",
        "rank_correlations = features.corrwith(target, method='pearson')\n",
        "top_N = 23\n",
        "top_N_correlations_PF = rank_correlations.nsmallest(top_N)\n",
        "print(top_N_correlations_PF)\n"
      ],
      "metadata": {
        "colab": {
          "base_uri": "https://localhost:8080/"
        },
        "id": "czMptizs7nG2",
        "outputId": "ac0b66b7-f4f7-4541-ed1d-d56bb57de588"
      },
      "execution_count": 266,
      "outputs": [
        {
          "output_type": "stream",
          "name": "stdout",
          "text": [
            "FGM   -0.880608\n",
            "MPG   -0.874855\n",
            "PPG   -0.872140\n",
            "FGA   -0.856958\n",
            "TOV   -0.804991\n",
            "FTM   -0.800538\n",
            "FTA   -0.776557\n",
            "APG   -0.748916\n",
            "FG%   -0.709752\n",
            "RPG   -0.705970\n",
            "DRB   -0.683017\n",
            "PF    -0.593583\n",
            "SPG   -0.564934\n",
            "ORB   -0.496339\n",
            "GP    -0.420148\n",
            "BPG   -0.405728\n",
            "3PA   -0.256632\n",
            "3PM   -0.231898\n",
            "FT%   -0.178418\n",
            "3P%   -0.049081\n",
            "dtype: float64\n"
          ]
        }
      ]
    },
    {
      "cell_type": "code",
      "source": [
        "from scipy.stats import pearsonr\n",
        "\n",
        "for feature in top_N_correlations_PF.index:\n",
        "    corr_coef, p_value = pearsonr(features_df[feature], target)\n",
        "    print(f\"Feature: {feature}\")\n",
        "    print(f\"Pearson correlation coefficient: {corr_coef}\")\n",
        "    print(f\"P-value: {p_value}\")\n",
        "    print(\"\")\n",
        "\n",
        "    if p_value < 0.05:\n",
        "        print(\"Correlation coefficient is statistically significant.\")\n",
        "    else:\n",
        "        print(\"Correlation coefficient is not statistically significant.\")\n"
      ],
      "metadata": {
        "colab": {
          "base_uri": "https://localhost:8080/"
        },
        "id": "QJfU-KOx3zlc",
        "outputId": "e9552abc-7492-414f-a5e7-7e309990412f"
      },
      "execution_count": 267,
      "outputs": [
        {
          "output_type": "stream",
          "name": "stdout",
          "text": [
            "Feature: FGM\n",
            "Pearson correlation coefficient: -0.880608448369269\n",
            "P-value: 2.9721729758165445e-09\n",
            "\n",
            "Correlation coefficient is statistically significant.\n",
            "Feature: MPG\n",
            "Pearson correlation coefficient: -0.8748548829599283\n",
            "P-value: 5.0695056976106595e-09\n",
            "\n",
            "Correlation coefficient is statistically significant.\n",
            "Feature: PPG\n",
            "Pearson correlation coefficient: -0.87213958604261\n",
            "P-value: 6.463974539734508e-09\n",
            "\n",
            "Correlation coefficient is statistically significant.\n",
            "Feature: FGA\n",
            "Pearson correlation coefficient: -0.8569582535596498\n",
            "P-value: 2.2891356629380755e-08\n",
            "\n",
            "Correlation coefficient is statistically significant.\n",
            "Feature: TOV\n",
            "Pearson correlation coefficient: -0.8049905344376364\n",
            "P-value: 7.099283251206659e-07\n",
            "\n",
            "Correlation coefficient is statistically significant.\n",
            "Feature: FTM\n",
            "Pearson correlation coefficient: -0.8005377393372007\n",
            "P-value: 9.081314698469948e-07\n",
            "\n",
            "Correlation coefficient is statistically significant.\n",
            "Feature: FTA\n",
            "Pearson correlation coefficient: -0.7765572508375693\n",
            "P-value: 3.1021699565801473e-06\n",
            "\n",
            "Correlation coefficient is statistically significant.\n",
            "Feature: APG\n",
            "Pearson correlation coefficient: -0.7489159942981718\n",
            "P-value: 1.0756213051245837e-05\n",
            "\n",
            "Correlation coefficient is statistically significant.\n",
            "Feature: FG%\n",
            "Pearson correlation coefficient: -0.7097516925288876\n",
            "P-value: 4.8912552955904584e-05\n",
            "\n",
            "Correlation coefficient is statistically significant.\n",
            "Feature: RPG\n",
            "Pearson correlation coefficient: -0.7059695694726613\n",
            "P-value: 5.589397987726408e-05\n",
            "\n",
            "Correlation coefficient is statistically significant.\n",
            "Feature: DRB\n",
            "Pearson correlation coefficient: -0.6830174908815498\n",
            "P-value: 0.00012047573635650713\n",
            "\n",
            "Correlation coefficient is statistically significant.\n",
            "Feature: PF\n",
            "Pearson correlation coefficient: -0.5935830640854876\n",
            "P-value: 0.001390520156029274\n",
            "\n",
            "Correlation coefficient is statistically significant.\n",
            "Feature: SPG\n",
            "Pearson correlation coefficient: -0.5649342586191952\n",
            "P-value: 0.0026385865366422186\n",
            "\n",
            "Correlation coefficient is statistically significant.\n",
            "Feature: ORB\n",
            "Pearson correlation coefficient: -0.4963388017602966\n",
            "P-value: 0.009908144912090303\n",
            "\n",
            "Correlation coefficient is statistically significant.\n",
            "Feature: GP\n",
            "Pearson correlation coefficient: -0.42014802675994534\n",
            "P-value: 0.032597359131821185\n",
            "\n",
            "Correlation coefficient is statistically significant.\n",
            "Feature: BPG\n",
            "Pearson correlation coefficient: -0.40572843310520146\n",
            "P-value: 0.039736783269856364\n",
            "\n",
            "Correlation coefficient is statistically significant.\n",
            "Feature: 3PA\n",
            "Pearson correlation coefficient: -0.256632168411936\n",
            "P-value: 0.2056783807432233\n",
            "\n",
            "Correlation coefficient is not statistically significant.\n",
            "Feature: 3PM\n",
            "Pearson correlation coefficient: -0.23189767664508643\n",
            "P-value: 0.2543193771736436\n",
            "\n",
            "Correlation coefficient is not statistically significant.\n",
            "Feature: FT%\n",
            "Pearson correlation coefficient: -0.17841752097018856\n",
            "P-value: 0.3831871006991231\n",
            "\n",
            "Correlation coefficient is not statistically significant.\n",
            "Feature: 3P%\n",
            "Pearson correlation coefficient: -0.04908079743171602\n",
            "P-value: 0.8118043947982676\n",
            "\n",
            "Correlation coefficient is not statistically significant.\n"
          ]
        }
      ]
    },
    {
      "cell_type": "code",
      "source": [
        "\n",
        "merged_SGdf = pd.merge(twokSG_df, ShootingGuardDF, on='Player', how='inner')\n",
        "merged_SGdf = merged_SGdf.drop(columns=['Player', 'OVR', '3PT', 'DNK', '#_y', 'Team'])\n",
        "\n",
        "features = merged_SGdf.drop(columns=['#_x'])\n",
        "target = merged_SGdf['#_x']\n",
        "\n",
        "scaler = MinMaxScaler()\n",
        "features_normalized = scaler.fit_transform(features)\n",
        "features_df = pd.DataFrame(features_normalized, columns=features.columns)\n",
        "\n",
        "rank_correlations = features.corrwith(target, method='pearson')\n",
        "top_N = 23\n",
        "top_N_correlations_SG = rank_correlations.nsmallest(top_N)\n",
        "print(top_N_correlations_SG)"
      ],
      "metadata": {
        "id": "qCiw2O4B8RQH",
        "colab": {
          "base_uri": "https://localhost:8080/"
        },
        "outputId": "c68845af-d18f-4183-a91f-a949aaef2f02"
      },
      "execution_count": 268,
      "outputs": [
        {
          "output_type": "stream",
          "name": "stdout",
          "text": [
            "PPG   -0.889287\n",
            "FGM   -0.875528\n",
            "FGA   -0.864955\n",
            "APG   -0.787698\n",
            "FTM   -0.784775\n",
            "FTA   -0.779293\n",
            "MPG   -0.775710\n",
            "TOV   -0.764127\n",
            "3PA   -0.758201\n",
            "DRB   -0.712366\n",
            "RPG   -0.712079\n",
            "3PM   -0.685848\n",
            "SPG   -0.559554\n",
            "ORB   -0.425797\n",
            "FG%   -0.409400\n",
            "PF    -0.367934\n",
            "BPG   -0.325789\n",
            "FT%   -0.300605\n",
            "GP    -0.112561\n",
            "3P%   -0.078712\n",
            "dtype: float64\n"
          ]
        }
      ]
    },
    {
      "cell_type": "code",
      "source": [
        "from scipy.stats import pearsonr\n",
        "\n",
        "for feature in top_N_correlations_SG.index:\n",
        "    corr_coef, p_value = pearsonr(features_df[feature], target)\n",
        "    print(f\"Feature: {feature}\")\n",
        "    print(f\"Pearson correlation coefficient: {corr_coef}\")\n",
        "    print(f\"P-value: {p_value}\")\n",
        "    print(\"\")\n",
        "\n",
        "    if p_value < 0.05:\n",
        "        print(\"Correlation coefficient is statistically significant.\")\n",
        "    else:\n",
        "        print(\"Correlation coefficient is not statistically significant.\")\n"
      ],
      "metadata": {
        "colab": {
          "base_uri": "https://localhost:8080/"
        },
        "id": "zhSxqjOq4TUV",
        "outputId": "16465f46-3bb4-4cb0-e578-000c3e0a75bb"
      },
      "execution_count": 269,
      "outputs": [
        {
          "output_type": "stream",
          "name": "stdout",
          "text": [
            "Feature: PPG\n",
            "Pearson correlation coefficient: -0.8892871788422254\n",
            "P-value: 5.112473639859426e-11\n",
            "\n",
            "Correlation coefficient is statistically significant.\n",
            "Feature: FGM\n",
            "Pearson correlation coefficient: -0.8755282655761659\n",
            "P-value: 2.413378883134695e-10\n",
            "\n",
            "Correlation coefficient is statistically significant.\n",
            "Feature: FGA\n",
            "Pearson correlation coefficient: -0.8649546634503728\n",
            "P-value: 7.060061826619139e-10\n",
            "\n",
            "Correlation coefficient is statistically significant.\n",
            "Feature: APG\n",
            "Pearson correlation coefficient: -0.787698069003309\n",
            "P-value: 2.3940202742129913e-07\n",
            "\n",
            "Correlation coefficient is statistically significant.\n",
            "Feature: FTM\n",
            "Pearson correlation coefficient: -0.7847750961196669\n",
            "P-value: 2.842978757586085e-07\n",
            "\n",
            "Correlation coefficient is statistically significant.\n",
            "Feature: FTA\n",
            "Pearson correlation coefficient: -0.7792926473360531\n",
            "P-value: 3.8971701046987197e-07\n",
            "\n",
            "Correlation coefficient is statistically significant.\n",
            "Feature: MPG\n",
            "Pearson correlation coefficient: -0.7757099529072429\n",
            "P-value: 4.766496692603079e-07\n",
            "\n",
            "Correlation coefficient is statistically significant.\n",
            "Feature: TOV\n",
            "Pearson correlation coefficient: -0.7641272688155525\n",
            "P-value: 8.921231770472358e-07\n",
            "\n",
            "Correlation coefficient is statistically significant.\n",
            "Feature: 3PA\n",
            "Pearson correlation coefficient: -0.7582007332793307\n",
            "P-value: 1.2130426355552253e-06\n",
            "\n",
            "Correlation coefficient is statistically significant.\n",
            "Feature: DRB\n",
            "Pearson correlation coefficient: -0.7123660886306421\n",
            "P-value: 1.0064036746115311e-05\n",
            "\n",
            "Correlation coefficient is statistically significant.\n",
            "Feature: RPG\n",
            "Pearson correlation coefficient: -0.7120793382704748\n",
            "P-value: 1.018514286258509e-05\n",
            "\n",
            "Correlation coefficient is statistically significant.\n",
            "Feature: 3PM\n",
            "Pearson correlation coefficient: -0.6858475801167946\n",
            "P-value: 2.874789528799349e-05\n",
            "\n",
            "Correlation coefficient is statistically significant.\n",
            "Feature: SPG\n",
            "Pearson correlation coefficient: -0.5595541984217515\n",
            "P-value: 0.001304827264619615\n",
            "\n",
            "Correlation coefficient is statistically significant.\n",
            "Feature: ORB\n",
            "Pearson correlation coefficient: -0.4257968146926405\n",
            "P-value: 0.018976226409355104\n",
            "\n",
            "Correlation coefficient is statistically significant.\n",
            "Feature: FG%\n",
            "Pearson correlation coefficient: -0.40939980556907724\n",
            "P-value: 0.024666267998372612\n",
            "\n",
            "Correlation coefficient is statistically significant.\n",
            "Feature: PF\n",
            "Pearson correlation coefficient: -0.36793375690062713\n",
            "P-value: 0.04545486579447031\n",
            "\n",
            "Correlation coefficient is statistically significant.\n",
            "Feature: BPG\n",
            "Pearson correlation coefficient: -0.32578880056486775\n",
            "P-value: 0.07893712083530492\n",
            "\n",
            "Correlation coefficient is not statistically significant.\n",
            "Feature: FT%\n",
            "Pearson correlation coefficient: -0.30060516882949767\n",
            "P-value: 0.1065047570794803\n",
            "\n",
            "Correlation coefficient is not statistically significant.\n",
            "Feature: GP\n",
            "Pearson correlation coefficient: -0.11256138515089206\n",
            "P-value: 0.553707192496939\n",
            "\n",
            "Correlation coefficient is not statistically significant.\n",
            "Feature: 3P%\n",
            "Pearson correlation coefficient: -0.0787119561976832\n",
            "P-value: 0.6792794719498589\n",
            "\n",
            "Correlation coefficient is not statistically significant.\n"
          ]
        }
      ]
    },
    {
      "cell_type": "code",
      "source": [
        "merged_SFdf = pd.merge(twokSF_df, SmallForwardDF, on='Player', how='inner')\n",
        "merged_SFdf = merged_SFdf.drop(columns=['Player', 'OVR', '3PT', 'DNK', '#_y', 'Team'])\n",
        "\n",
        "features = merged_SFdf.drop(columns=['#_x'])\n",
        "target = merged_SFdf['#_x']\n",
        "\n",
        "scaler = MinMaxScaler()\n",
        "features_normalized = scaler.fit_transform(features)\n",
        "features_df = pd.DataFrame(features_normalized, columns=features.columns)\n",
        "\n",
        "rank_correlations = features.corrwith(target, method='pearson')\n",
        "\n",
        "top_N = 23\n",
        "top_N_correlations_SF = rank_correlations.nsmallest(top_N)\n",
        "print(top_N_correlations_SF)"
      ],
      "metadata": {
        "colab": {
          "base_uri": "https://localhost:8080/"
        },
        "id": "X-B_f83g8mDG",
        "outputId": "38d33299-ac39-4f6c-edd5-1f62222c5b50"
      },
      "execution_count": 270,
      "outputs": [
        {
          "output_type": "stream",
          "name": "stdout",
          "text": [
            "FGM   -0.884041\n",
            "FGA   -0.879003\n",
            "PPG   -0.878281\n",
            "MPG   -0.870286\n",
            "TOV   -0.856269\n",
            "RPG   -0.741996\n",
            "APG   -0.729655\n",
            "FTM   -0.723060\n",
            "FTA   -0.719796\n",
            "DRB   -0.710230\n",
            "PF    -0.548747\n",
            "SPG   -0.518699\n",
            "ORB   -0.469617\n",
            "FG%   -0.372310\n",
            "3PA   -0.341241\n",
            "FT%   -0.329629\n",
            "3PM   -0.291282\n",
            "BPG   -0.278433\n",
            "GP     0.006407\n",
            "3P%    0.034640\n",
            "dtype: float64\n"
          ]
        }
      ]
    },
    {
      "cell_type": "code",
      "source": [
        "from scipy.stats import pearsonr\n",
        "\n",
        "for feature in top_N_correlations_SF.index:\n",
        "    corr_coef, p_value = pearsonr(features_df[feature], target)\n",
        "    print(f\"Feature: {feature}\")\n",
        "    print(f\"Pearson correlation coefficient: {corr_coef}\")\n",
        "    print(f\"P-value: {p_value}\")\n",
        "    print(\"\")\n",
        "\n",
        "\n",
        "    if p_value < 0.05:\n",
        "        print(\"Correlation coefficient is statistically significant.\")\n",
        "    else:\n",
        "        print(\"Correlation coefficient is not statistically significant.\")\n"
      ],
      "metadata": {
        "colab": {
          "base_uri": "https://localhost:8080/"
        },
        "id": "HRdgLOHl40a2",
        "outputId": "ec590fe7-6bf2-49af-d0b0-f0b329120ae3"
      },
      "execution_count": 271,
      "outputs": [
        {
          "output_type": "stream",
          "name": "stdout",
          "text": [
            "Feature: FGM\n",
            "Pearson correlation coefficient: -0.8840410150030639\n",
            "P-value: 9.453127637875903e-11\n",
            "\n",
            "Correlation coefficient is statistically significant.\n",
            "Feature: FGA\n",
            "Pearson correlation coefficient: -0.8790025171098284\n",
            "P-value: 1.66027063365975e-10\n",
            "\n",
            "Correlation coefficient is statistically significant.\n",
            "Feature: PPG\n",
            "Pearson correlation coefficient: -0.8782813062072766\n",
            "P-value: 1.7959945077123483e-10\n",
            "\n",
            "Correlation coefficient is statistically significant.\n",
            "Feature: MPG\n",
            "Pearson correlation coefficient: -0.870285527102918\n",
            "P-value: 4.157611618099029e-10\n",
            "\n",
            "Correlation coefficient is statistically significant.\n",
            "Feature: TOV\n",
            "Pearson correlation coefficient: -0.8562692294966627\n",
            "P-value: 1.5974111082502354e-09\n",
            "\n",
            "Correlation coefficient is statistically significant.\n",
            "Feature: RPG\n",
            "Pearson correlation coefficient: -0.7419962434702375\n",
            "P-value: 2.693758773896336e-06\n",
            "\n",
            "Correlation coefficient is statistically significant.\n",
            "Feature: APG\n",
            "Pearson correlation coefficient: -0.7296551171757057\n",
            "P-value: 4.7611010526709e-06\n",
            "\n",
            "Correlation coefficient is statistically significant.\n",
            "Feature: FTM\n",
            "Pearson correlation coefficient: -0.7230595534098344\n",
            "P-value: 6.375830461937951e-06\n",
            "\n",
            "Correlation coefficient is statistically significant.\n",
            "Feature: FTA\n",
            "Pearson correlation coefficient: -0.7197961411622424\n",
            "P-value: 7.34482358182717e-06\n",
            "\n",
            "Correlation coefficient is statistically significant.\n",
            "Feature: DRB\n",
            "Pearson correlation coefficient: -0.7102297542021091\n",
            "P-value: 1.0998357317837537e-05\n",
            "\n",
            "Correlation coefficient is statistically significant.\n",
            "Feature: PF\n",
            "Pearson correlation coefficient: -0.5487472389720567\n",
            "P-value: 0.0016893880989315053\n",
            "\n",
            "Correlation coefficient is statistically significant.\n",
            "Feature: SPG\n",
            "Pearson correlation coefficient: -0.5186989800184372\n",
            "P-value: 0.0033171927731171368\n",
            "\n",
            "Correlation coefficient is statistically significant.\n",
            "Feature: ORB\n",
            "Pearson correlation coefficient: -0.4696172893029301\n",
            "P-value: 0.008837077418544871\n",
            "\n",
            "Correlation coefficient is statistically significant.\n",
            "Feature: FG%\n",
            "Pearson correlation coefficient: -0.37230966842575264\n",
            "P-value: 0.04275746575366302\n",
            "\n",
            "Correlation coefficient is statistically significant.\n",
            "Feature: 3PA\n",
            "Pearson correlation coefficient: -0.34124065358032474\n",
            "P-value: 0.06496942385785298\n",
            "\n",
            "Correlation coefficient is not statistically significant.\n",
            "Feature: FT%\n",
            "Pearson correlation coefficient: -0.329628739813691\n",
            "P-value: 0.07526797645416608\n",
            "\n",
            "Correlation coefficient is not statistically significant.\n",
            "Feature: 3PM\n",
            "Pearson correlation coefficient: -0.29128242529748505\n",
            "P-value: 0.11835589030134051\n",
            "\n",
            "Correlation coefficient is not statistically significant.\n",
            "Feature: BPG\n",
            "Pearson correlation coefficient: -0.2784328810178375\n",
            "P-value: 0.13625544576498277\n",
            "\n",
            "Correlation coefficient is not statistically significant.\n",
            "Feature: GP\n",
            "Pearson correlation coefficient: 0.0064074735145795425\n",
            "P-value: 0.9731927767807478\n",
            "\n",
            "Correlation coefficient is not statistically significant.\n",
            "Feature: 3P%\n",
            "Pearson correlation coefficient: 0.0346395130960269\n",
            "P-value: 0.8558018137611187\n",
            "\n",
            "Correlation coefficient is not statistically significant.\n"
          ]
        }
      ]
    },
    {
      "cell_type": "code",
      "source": [
        "merged_PGdf = pd.merge(twokPG_df, PointGuardDF, on='Player', how='inner')\n",
        "merged_PGdf = merged_PGdf.drop(columns=['Player', 'OVR', '3PT', 'DNK', '#_y', 'Team'])\n",
        "\n",
        "features = merged_PGdf.drop(columns=['#_x'])\n",
        "target = merged_PGdf['#_x']\n",
        "\n",
        "scaler = MinMaxScaler()\n",
        "features_normalized = scaler.fit_transform(features)\n",
        "features_df = pd.DataFrame(features_normalized, columns=features.columns)\n",
        "\n",
        "rank_correlations = features.corrwith(target, method='pearson')\n",
        "\n",
        "top_N = 23\n",
        "top_N_correlations_PG = rank_correlations.nsmallest(top_N)\n",
        "print(top_N_correlations_PG)"
      ],
      "metadata": {
        "id": "OGaxb9Yu82PX",
        "colab": {
          "base_uri": "https://localhost:8080/"
        },
        "outputId": "e62e3b4b-f00b-4e0c-8342-db86db349934"
      },
      "execution_count": 272,
      "outputs": [
        {
          "output_type": "stream",
          "name": "stdout",
          "text": [
            "MPG   -0.908226\n",
            "FGM   -0.887656\n",
            "PPG   -0.884572\n",
            "FGA   -0.884141\n",
            "APG   -0.821296\n",
            "SPG   -0.793938\n",
            "3PA   -0.793662\n",
            "3PM   -0.782228\n",
            "FTA   -0.781092\n",
            "FTM   -0.778830\n",
            "TOV   -0.769541\n",
            "DRB   -0.746767\n",
            "RPG   -0.732244\n",
            "BPG   -0.541242\n",
            "PF    -0.458776\n",
            "FG%   -0.454682\n",
            "ORB   -0.320361\n",
            "FT%   -0.298991\n",
            "3P%   -0.184766\n",
            "GP    -0.047399\n",
            "dtype: float64\n"
          ]
        }
      ]
    },
    {
      "cell_type": "code",
      "source": [
        "from scipy.stats import pearsonr\n",
        "\n",
        "\n",
        "for feature in top_N_correlations_SG.index:\n",
        "    corr_coef, p_value = pearsonr(features_df[feature], target)\n",
        "    print(f\"Feature: {feature}\")\n",
        "    print(f\"Pearson correlation coefficient: {corr_coef}\")\n",
        "    print(f\"P-value: {p_value}\")\n",
        "    print(\"\")\n",
        "\n",
        "    if p_value < 0.05:\n",
        "        print(\"Correlation coefficient is statistically significant.\")\n",
        "    else:\n",
        "        print(\"Correlation coefficient is not statistically significant.\")\n"
      ],
      "metadata": {
        "colab": {
          "base_uri": "https://localhost:8080/"
        },
        "id": "GE2CqfPp5PyH",
        "outputId": "fb531209-674c-4e84-d2dd-f710c850a897"
      },
      "execution_count": 273,
      "outputs": [
        {
          "output_type": "stream",
          "name": "stdout",
          "text": [
            "Feature: PPG\n",
            "Pearson correlation coefficient: -0.8845718533073301\n",
            "P-value: 3.7363870983181317e-14\n",
            "\n",
            "Correlation coefficient is statistically significant.\n",
            "Feature: FGM\n",
            "Pearson correlation coefficient: -0.8876562366082391\n",
            "P-value: 2.296333998801916e-14\n",
            "\n",
            "Correlation coefficient is statistically significant.\n",
            "Feature: FGA\n",
            "Pearson correlation coefficient: -0.8841414069433654\n",
            "P-value: 3.994654838036738e-14\n",
            "\n",
            "Correlation coefficient is statistically significant.\n",
            "Feature: APG\n",
            "Pearson correlation coefficient: -0.8212956189725366\n",
            "P-value: 8.46041596106413e-11\n",
            "\n",
            "Correlation coefficient is statistically significant.\n",
            "Feature: FTM\n",
            "Pearson correlation coefficient: -0.7788298464080448\n",
            "P-value: 3.260737724515608e-09\n",
            "\n",
            "Correlation coefficient is statistically significant.\n",
            "Feature: FTA\n",
            "Pearson correlation coefficient: -0.7810915506118575\n",
            "P-value: 2.740450039186685e-09\n",
            "\n",
            "Correlation coefficient is statistically significant.\n",
            "Feature: MPG\n",
            "Pearson correlation coefficient: -0.908225834375778\n",
            "P-value: 5.920722965018326e-16\n",
            "\n",
            "Correlation coefficient is statistically significant.\n",
            "Feature: TOV\n",
            "Pearson correlation coefficient: -0.7695411362738172\n",
            "P-value: 6.522178542677027e-09\n",
            "\n",
            "Correlation coefficient is statistically significant.\n",
            "Feature: 3PA\n",
            "Pearson correlation coefficient: -0.7936624508847022\n",
            "P-value: 1.0033319165858569e-09\n",
            "\n",
            "Correlation coefficient is statistically significant.\n",
            "Feature: DRB\n",
            "Pearson correlation coefficient: -0.7467670716855739\n",
            "P-value: 3.141328244019035e-08\n",
            "\n",
            "Correlation coefficient is statistically significant.\n",
            "Feature: RPG\n",
            "Pearson correlation coefficient: -0.732244221300316\n",
            "P-value: 7.873955877464488e-08\n",
            "\n",
            "Correlation coefficient is statistically significant.\n",
            "Feature: 3PM\n",
            "Pearson correlation coefficient: -0.7822279868391889\n",
            "P-value: 2.5093036618916435e-09\n",
            "\n",
            "Correlation coefficient is statistically significant.\n",
            "Feature: SPG\n",
            "Pearson correlation coefficient: -0.7939383760237818\n",
            "P-value: 9.806912989643598e-10\n",
            "\n",
            "Correlation coefficient is statistically significant.\n",
            "Feature: ORB\n",
            "Pearson correlation coefficient: -0.32036092453185583\n",
            "P-value: 0.043867379162433474\n",
            "\n",
            "Correlation coefficient is statistically significant.\n",
            "Feature: FG%\n",
            "Pearson correlation coefficient: -0.45468231556380256\n",
            "P-value: 0.0032031639487701572\n",
            "\n",
            "Correlation coefficient is statistically significant.\n",
            "Feature: PF\n",
            "Pearson correlation coefficient: -0.45877587819263554\n",
            "P-value: 0.0029064755476538614\n",
            "\n",
            "Correlation coefficient is statistically significant.\n",
            "Feature: BPG\n",
            "Pearson correlation coefficient: -0.5412420750743102\n",
            "P-value: 0.00031061033517816\n",
            "\n",
            "Correlation coefficient is statistically significant.\n",
            "Feature: FT%\n",
            "Pearson correlation coefficient: -0.29899140423800835\n",
            "P-value: 0.06090968443295282\n",
            "\n",
            "Correlation coefficient is not statistically significant.\n",
            "Feature: GP\n",
            "Pearson correlation coefficient: -0.04739874481443679\n",
            "P-value: 0.7714847426931801\n",
            "\n",
            "Correlation coefficient is not statistically significant.\n",
            "Feature: 3P%\n",
            "Pearson correlation coefficient: -0.18476614633473332\n",
            "P-value: 0.25371639367667503\n",
            "\n",
            "Correlation coefficient is not statistically significant.\n"
          ]
        }
      ]
    },
    {
      "cell_type": "markdown",
      "source": [
        "Now that we have correlation coefficients that we beleive are important for each position lets load the international athletes dataset and give them a rating based on the most important features"
      ],
      "metadata": {
        "id": "KexmGL3pAPe2"
      }
    },
    {
      "cell_type": "code",
      "source": [
        "prospects_df = pd.read_csv(internationalURL)\n",
        "copyProspects = prospects_df.drop(columns = ['Player', 'Team', 'League', 'Position', 'MPG'])"
      ],
      "metadata": {
        "id": "5Dna9CU-LfZn"
      },
      "execution_count": 274,
      "outputs": []
    },
    {
      "cell_type": "markdown",
      "source": [
        "Calculate positional ratings based on a linear combination of four features\n",
        "\n",
        "Adjust coefficients and features as per your requirement, if you beleive you have insights that we missed."
      ],
      "metadata": {
        "id": "pR7NV-0rAVk8"
      }
    },
    {
      "cell_type": "code",
      "source": [
        "scaler = MinMaxScaler()\n",
        "columns_to_normalize = copyProspects.columns[1:]\n",
        "copyProspects[columns_to_normalize] = scaler.fit_transform(copyProspects[columns_to_normalize])\n",
        "\n",
        "\n",
        "copyProspects['CenterRating'] = (\n",
        "    copyProspects['DRB'] * 0.25 +\n",
        "    copyProspects['RPG'] * 0.25 +\n",
        "    copyProspects['FGM'] * 0.25 +\n",
        "    copyProspects['FGA'] * 0.25\n",
        ") * 100\n",
        "\n",
        "copyProspects['PowerForwardRating'] = (\n",
        "    copyProspects['FGM'] * 0.25 +\n",
        "    copyProspects['RPG'] * 0.25 +\n",
        "    copyProspects['TOV'] * 0.25 +\n",
        "    copyProspects['FGA'] * 0.25\n",
        ") * 100\n",
        "\n",
        "copyProspects['ShootingGuardRating'] = (\n",
        "    copyProspects['FGM'] * 0.25 +\n",
        "    copyProspects['FGA'] * 0.25 +\n",
        "    copyProspects['APG'] * 0.25 +\n",
        "    copyProspects['TOV'] * 0.25\n",
        ") * 100\n",
        "\n",
        "copyProspects['SmallForwardRating'] = (\n",
        "    copyProspects['FGM'] * 0.25 +\n",
        "    copyProspects['TOV'] * 0.25 +\n",
        "    copyProspects['APG'] * 0.25 +\n",
        "    copyProspects['FGA'] * 0.25\n",
        ") * 100\n",
        "\n",
        "copyProspects['PointGuardRating'] = (\n",
        "    copyProspects['FGM'] * 0.25 +\n",
        "    copyProspects['3PA'] * 0.25 +\n",
        "    copyProspects['APG'] * 0.25 +\n",
        "    copyProspects['FGA'] * 0.25\n",
        ") * 100\n",
        "\n",
        "copyProspects['OverallRating'] = (\n",
        "    copyProspects['CenterRating'] * 0.2 +\n",
        "    copyProspects['PowerForwardRating'] * 0.2 +\n",
        "    copyProspects['ShootingGuardRating'] * 0.2 +\n",
        "    copyProspects['SmallForwardRating'] * 0.2 +\n",
        "    copyProspects['PointGuardRating'] * 0.2\n",
        ")\n",
        "\n",
        "\n",
        "\n",
        "\n",
        "\n",
        "\n"
      ],
      "metadata": {
        "id": "0sq_57kXRhsV"
      },
      "execution_count": 275,
      "outputs": []
    },
    {
      "cell_type": "markdown",
      "source": [
        "Sort the DataFrame based on the 'OverallRating' column to see some of the best basketball players around the world"
      ],
      "metadata": {
        "id": "CGdTy2WFAi6E"
      }
    },
    {
      "cell_type": "code",
      "source": [
        "copyProspects = copyProspects.sort_values(by='OverallRating', ascending=False)\n",
        "\n",
        "ratingsDF = copyProspects.iloc[:, 20:].copy()\n",
        "\n",
        "ratedInternationals = ratingsDF.join(prospects_df)"
      ],
      "metadata": {
        "id": "QRstxx2iAgJP"
      },
      "execution_count": 276,
      "outputs": []
    },
    {
      "cell_type": "markdown",
      "source": [
        "define scores for defend, inside (2pt, layup), outside (3pt), rebound, playmaking(assist), to generate a radar chart"
      ],
      "metadata": {
        "id": "QH2hmQRaAxYu"
      }
    },
    {
      "cell_type": "code",
      "source": [
        "ratedInternationals['inside'] = (prospects_df['FGM'] - prospects_df['3PM'])\n",
        "ratedInternationals['outside'] = (prospects_df['3PM'])\n",
        "ratedInternationals['playmaking'] = (prospects_df['APG'])\n",
        "ratedInternationals['rebound'] = (prospects_df['ORB'] + prospects_df['DRB'])\n",
        "ratedInternationals['defense'] = (prospects_df['SPG'] + prospects_df['BPG'])\n",
        "\n",
        "features_to_scale = ['inside', 'outside', 'playmaking', 'rebound', 'defense']\n",
        "\n",
        "\n",
        "scaler = MinMaxScaler(feature_range=(0, 100))\n",
        "\n",
        "\n",
        "ratedInternationals[features_to_scale] = scaler.fit_transform(ratedInternationals[features_to_scale])\n",
        "\n",
        "\n",
        "print(ratedInternationals)\n"
      ],
      "metadata": {
        "colab": {
          "base_uri": "https://localhost:8080/"
        },
        "id": "QWfHKiERdwx7",
        "outputId": "5952a6d5-c7de-43f0-ea67-4c7410f2a9a2"
      },
      "execution_count": 277,
      "outputs": [
        {
          "output_type": "stream",
          "name": "stdout",
          "text": [
            "      CenterRating  PowerForwardRating  ShootingGuardRating  \\\n",
            "1783     70.735887           72.130814            81.409613   \n",
            "1723     71.243158           70.717796            72.291158   \n",
            "1784     76.350059           73.795711            71.974087   \n",
            "2507     83.947130           74.997855            67.941003   \n",
            "2540     89.616087           73.728406            64.955442   \n",
            "...            ...                 ...                  ...   \n",
            "2717      2.092029            1.276812             0.783391   \n",
            "2177      1.809735            1.556112             1.062691   \n",
            "1680      0.980651            0.853839             0.760741   \n",
            "2137      0.229358            1.062691             1.062691   \n",
            "2413      0.717547            0.445808             0.681657   \n",
            "\n",
            "      SmallForwardRating  PointGuardRating  OverallRating    id  \\\n",
            "1783           81.409613         85.738881      78.284962  1783   \n",
            "1723           72.291158         83.957824      74.100219  1723   \n",
            "1784           71.974087         76.313518      74.081492  1784   \n",
            "2507           67.941003         69.038564      72.773111  2507   \n",
            "2540           64.955442         64.183084      71.487692  2540   \n",
            "...                  ...               ...            ...   ...   \n",
            "2717            0.783391          0.986643       1.184453  2717   \n",
            "2177            1.062691          0.229358       1.144118  2177   \n",
            "1680            0.760741          0.953830       0.861960  1680   \n",
            "2137            1.062691          0.635862       0.810659  2137   \n",
            "2413            0.681657          1.494665       0.804267  2413   \n",
            "\n",
            "                      Player  Team  GP  ...  BPG  TOV   PF  \\\n",
            "1783             Trae Golden  SICH  38  ...  0.1  3.4  2.0   \n",
            "1723           Q.J. Peterson   JIL  27  ...  0.4  3.2  2.6   \n",
            "1784        Antonio Blakeney  TONG  38  ...  0.7  3.3  1.1   \n",
            "2507              Paris Bass   SON  39  ...  0.7  3.2  2.8   \n",
            "2540           Jameel Warney   SKK  36  ...  1.2  1.6  1.5   \n",
            "...                      ...   ...  ..  ...  ...  ...  ...   \n",
            "2717         Miguel Martinez   ABE  19  ...  0.1  0.0  0.3   \n",
            "2177    Nicolas Chiaraviglio   CAP  11  ...  0.1  0.2  0.1   \n",
            "1680            Zac Triplett   MEL  12  ...  0.0  0.1  0.3   \n",
            "2137       Francisco Ferraro   REG  10  ...  0.0  0.2  0.5   \n",
            "2413  Matheus Weber Barcelos   VAS  14  ...  0.0  0.0  0.1   \n",
            "\n",
            "                  League  Position      inside     outside  playmaking  \\\n",
            "1783         Chinese CBA        SG   74.747475   70.454545   72.641509   \n",
            "1723         Chinese CBA        PG   52.525253  100.000000   49.056604   \n",
            "1784         Chinese CBA        SG   73.737374   81.818182   36.792453   \n",
            "2507    South Korean KBL        PF   72.727273   59.090909   41.509434   \n",
            "2540    South Korean KBL         C  100.000000   20.454545   40.566038   \n",
            "...                  ...       ...         ...         ...         ...   \n",
            "2717        Mexican LNBP        PF    2.020202    0.000000    0.000000   \n",
            "2177  Argentinian Liga A        PF    1.010101    0.000000    0.000000   \n",
            "1680      Australian NBL        SF    0.000000    0.000000    0.943396   \n",
            "2137  Argentinian Liga A        SF    0.000000    2.272727    0.000000   \n",
            "2413       Brazilian NBB         C    0.000000    2.272727    0.943396   \n",
            "\n",
            "        rebound  defense  \n",
            "1783  35.294118     22.0  \n",
            "1723  43.137255     36.0  \n",
            "1784  43.790850     32.0  \n",
            "2507  69.934641     48.0  \n",
            "2540  75.163399     46.0  \n",
            "...         ...      ...  \n",
            "2717   2.614379      2.0  \n",
            "2177   1.960784      2.0  \n",
            "1680   1.307190      2.0  \n",
            "2137   0.000000      0.0  \n",
            "2413   0.000000      0.0  \n",
            "\n",
            "[2746 rows x 36 columns]\n"
          ]
        }
      ]
    },
    {
      "cell_type": "markdown",
      "source": [
        "download your file to use in a web app"
      ],
      "metadata": {
        "id": "NXkrR97KBBJf"
      }
    },
    {
      "cell_type": "code",
      "source": [
        "from google.colab import files\n",
        "ratedInternationals.to_csv('ratedInternationals.csv', encoding = 'utf-8')\n",
        "files.download('ratedInternationals.csv')"
      ],
      "metadata": {
        "id": "isxIpD6I03g5",
        "colab": {
          "base_uri": "https://localhost:8080/",
          "height": 17
        },
        "outputId": "c1a76b9d-66aa-4bfa-aadf-428249ef536b"
      },
      "execution_count": 278,
      "outputs": [
        {
          "output_type": "display_data",
          "data": {
            "text/plain": [
              "<IPython.core.display.Javascript object>"
            ],
            "application/javascript": [
              "\n",
              "    async function download(id, filename, size) {\n",
              "      if (!google.colab.kernel.accessAllowed) {\n",
              "        return;\n",
              "      }\n",
              "      const div = document.createElement('div');\n",
              "      const label = document.createElement('label');\n",
              "      label.textContent = `Downloading \"${filename}\": `;\n",
              "      div.appendChild(label);\n",
              "      const progress = document.createElement('progress');\n",
              "      progress.max = size;\n",
              "      div.appendChild(progress);\n",
              "      document.body.appendChild(div);\n",
              "\n",
              "      const buffers = [];\n",
              "      let downloaded = 0;\n",
              "\n",
              "      const channel = await google.colab.kernel.comms.open(id);\n",
              "      // Send a message to notify the kernel that we're ready.\n",
              "      channel.send({})\n",
              "\n",
              "      for await (const message of channel.messages) {\n",
              "        // Send a message to notify the kernel that we're ready.\n",
              "        channel.send({})\n",
              "        if (message.buffers) {\n",
              "          for (const buffer of message.buffers) {\n",
              "            buffers.push(buffer);\n",
              "            downloaded += buffer.byteLength;\n",
              "            progress.value = downloaded;\n",
              "          }\n",
              "        }\n",
              "      }\n",
              "      const blob = new Blob(buffers, {type: 'application/binary'});\n",
              "      const a = document.createElement('a');\n",
              "      a.href = window.URL.createObjectURL(blob);\n",
              "      a.download = filename;\n",
              "      div.appendChild(a);\n",
              "      a.click();\n",
              "      div.remove();\n",
              "    }\n",
              "  "
            ]
          },
          "metadata": {}
        },
        {
          "output_type": "display_data",
          "data": {
            "text/plain": [
              "<IPython.core.display.Javascript object>"
            ],
            "application/javascript": [
              "download(\"download_ac8e17f3-ca04-4975-a0c5-e9c3401ee552\", \"ratedInternationals.csv\", 874547)"
            ]
          },
          "metadata": {}
        }
      ]
    }
  ]
}